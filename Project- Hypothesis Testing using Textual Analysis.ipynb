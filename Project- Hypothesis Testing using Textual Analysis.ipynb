{
 "cells": [
  {
   "cell_type": "markdown",
   "metadata": {},
   "source": [
    "# Project -  Hypothesis Testing using Textual Analysis\n",
    "\n",
    "**Background**: Hypothesis testing allows us to determine answers to various practical questions. It allows us to calculate the probability that whether random chance is actually responsible for certain outcome or the outcome is the result of a process which can be identified. Every process has some inherent amount of randomness that we can't measure and understanding the role of chance helps us reach a conclusion that's more likely to be correct.\n",
    "\n",
    "**Aim and Goal**: In this project we will carry out textual analysis and try to confirm or reject the hypothesis that **Quiz Shows on popular television follow a set pattern of questions which can be identified**. For the purpose of textual analysis, we have selected **Jeopardy** which is a popular TV show in the US where participants answer questions to win money. We will try to confirm or reject our hypothesis using the dataset containing 20000 rows from the beginning of a full dataset of Jeopardy questions. We will consider three cases to help identify a test statistic which can identify repetitive patterns:\n",
    "1. **Answers in Questions**: Based on the assumption that specific words in questions are indicators of answers.\n",
    "2. **Recycled Questions**: Based on the assumption that questions from earlier shows are repeated in later shows.\n",
    "3. **High Value Questions**: Based on the assumption that questions with high money value contain specific words or are repeated."
   ]
  },
  {
   "cell_type": "code",
   "execution_count": 1,
   "metadata": {},
   "outputs": [],
   "source": [
    "import pandas as pd\n",
    "import numpy as np\n",
    "import matplotlib.pyplot as plt\n",
    "import seaborn as sns\n",
    "%matplotlib inline\n",
    "# Setting pandas display options for large data\n",
    "pd.options.display.max_rows = 200\n",
    "pd.options.display.max_columns = 150"
   ]
  },
  {
   "cell_type": "code",
   "execution_count": 2,
   "metadata": {
    "scrolled": false
   },
   "outputs": [
    {
     "name": "stdout",
     "output_type": "stream",
     "text": [
      "<class 'pandas.core.frame.DataFrame'>\n",
      "RangeIndex: 19999 entries, 0 to 19998\n",
      "Data columns (total 7 columns):\n",
      " #   Column       Non-Null Count  Dtype \n",
      "---  ------       --------------  ----- \n",
      " 0   Show Number  19999 non-null  int64 \n",
      " 1    Air Date    19999 non-null  object\n",
      " 2    Round       19999 non-null  object\n",
      " 3    Category    19999 non-null  object\n",
      " 4    Value       19999 non-null  object\n",
      " 5    Question    19999 non-null  object\n",
      " 6    Answer      19999 non-null  object\n",
      "dtypes: int64(1), object(6)\n",
      "memory usage: 1.1+ MB\n"
     ]
    }
   ],
   "source": [
    "jeopardy = pd.read_csv(\"jeopardy.csv\")\n",
    "\n",
    "jeopardy.info()"
   ]
  },
  {
   "cell_type": "code",
   "execution_count": 3,
   "metadata": {
    "scrolled": true
   },
   "outputs": [
    {
     "data": {
      "text/html": [
       "<div>\n",
       "<style scoped>\n",
       "    .dataframe tbody tr th:only-of-type {\n",
       "        vertical-align: middle;\n",
       "    }\n",
       "\n",
       "    .dataframe tbody tr th {\n",
       "        vertical-align: top;\n",
       "    }\n",
       "\n",
       "    .dataframe thead th {\n",
       "        text-align: right;\n",
       "    }\n",
       "</style>\n",
       "<table border=\"1\" class=\"dataframe\">\n",
       "  <thead>\n",
       "    <tr style=\"text-align: right;\">\n",
       "      <th></th>\n",
       "      <th>Show Number</th>\n",
       "      <th>Air Date</th>\n",
       "      <th>Round</th>\n",
       "      <th>Category</th>\n",
       "      <th>Value</th>\n",
       "      <th>Question</th>\n",
       "      <th>Answer</th>\n",
       "    </tr>\n",
       "  </thead>\n",
       "  <tbody>\n",
       "    <tr>\n",
       "      <th>0</th>\n",
       "      <td>4680</td>\n",
       "      <td>2004-12-31</td>\n",
       "      <td>Jeopardy!</td>\n",
       "      <td>HISTORY</td>\n",
       "      <td>$200</td>\n",
       "      <td>For the last 8 years of his life, Galileo was ...</td>\n",
       "      <td>Copernicus</td>\n",
       "    </tr>\n",
       "    <tr>\n",
       "      <th>1</th>\n",
       "      <td>4680</td>\n",
       "      <td>2004-12-31</td>\n",
       "      <td>Jeopardy!</td>\n",
       "      <td>ESPN's TOP 10 ALL-TIME ATHLETES</td>\n",
       "      <td>$200</td>\n",
       "      <td>No. 2: 1912 Olympian; football star at Carlisl...</td>\n",
       "      <td>Jim Thorpe</td>\n",
       "    </tr>\n",
       "    <tr>\n",
       "      <th>2</th>\n",
       "      <td>4680</td>\n",
       "      <td>2004-12-31</td>\n",
       "      <td>Jeopardy!</td>\n",
       "      <td>EVERYBODY TALKS ABOUT IT...</td>\n",
       "      <td>$200</td>\n",
       "      <td>The city of Yuma in this state has a record av...</td>\n",
       "      <td>Arizona</td>\n",
       "    </tr>\n",
       "    <tr>\n",
       "      <th>3</th>\n",
       "      <td>4680</td>\n",
       "      <td>2004-12-31</td>\n",
       "      <td>Jeopardy!</td>\n",
       "      <td>THE COMPANY LINE</td>\n",
       "      <td>$200</td>\n",
       "      <td>In 1963, live on \"The Art Linkletter Show\", th...</td>\n",
       "      <td>McDonald's</td>\n",
       "    </tr>\n",
       "    <tr>\n",
       "      <th>4</th>\n",
       "      <td>4680</td>\n",
       "      <td>2004-12-31</td>\n",
       "      <td>Jeopardy!</td>\n",
       "      <td>EPITAPHS &amp; TRIBUTES</td>\n",
       "      <td>$200</td>\n",
       "      <td>Signer of the Dec. of Indep., framer of the Co...</td>\n",
       "      <td>John Adams</td>\n",
       "    </tr>\n",
       "  </tbody>\n",
       "</table>\n",
       "</div>"
      ],
      "text/plain": [
       "   Show Number    Air Date      Round                         Category  Value  \\\n",
       "0         4680  2004-12-31  Jeopardy!                          HISTORY   $200   \n",
       "1         4680  2004-12-31  Jeopardy!  ESPN's TOP 10 ALL-TIME ATHLETES   $200   \n",
       "2         4680  2004-12-31  Jeopardy!      EVERYBODY TALKS ABOUT IT...   $200   \n",
       "3         4680  2004-12-31  Jeopardy!                 THE COMPANY LINE   $200   \n",
       "4         4680  2004-12-31  Jeopardy!              EPITAPHS & TRIBUTES   $200   \n",
       "\n",
       "                                            Question      Answer  \n",
       "0  For the last 8 years of his life, Galileo was ...  Copernicus  \n",
       "1  No. 2: 1912 Olympian; football star at Carlisl...  Jim Thorpe  \n",
       "2  The city of Yuma in this state has a record av...     Arizona  \n",
       "3  In 1963, live on \"The Art Linkletter Show\", th...  McDonald's  \n",
       "4  Signer of the Dec. of Indep., framer of the Co...  John Adams  "
      ]
     },
     "execution_count": 3,
     "metadata": {},
     "output_type": "execute_result"
    }
   ],
   "source": [
    "jeopardy.head()"
   ]
  },
  {
   "cell_type": "markdown",
   "metadata": {},
   "source": [
    "### Cleaning and Formatting Data\n",
    "\n",
    "First of all, we will clean and format data:\n",
    "- Remove spaces from beginning of column names\n",
    "- Format or normalize columns: `Value`, `Question`, `Answer` removing punctuation, converting to lower case and save clean data in new columns\n",
    "- Convert `Air Date` Column to datetime format"
   ]
  },
  {
   "cell_type": "code",
   "execution_count": 4,
   "metadata": {
    "scrolled": false
   },
   "outputs": [
    {
     "data": {
      "text/plain": [
       "Index(['Show Number', 'Air Date', 'Round', 'Category', 'Value', 'Question',\n",
       "       'Answer'],\n",
       "      dtype='object')"
      ]
     },
     "execution_count": 4,
     "metadata": {},
     "output_type": "execute_result"
    }
   ],
   "source": [
    "# Format column names\n",
    "columns = jeopardy.columns.str.replace('^\\s', '')\n",
    "jeopardy.columns = columns\n",
    "jeopardy.columns"
   ]
  },
  {
   "cell_type": "code",
   "execution_count": 5,
   "metadata": {},
   "outputs": [],
   "source": [
    "# Write a function to normalize text columns 'Question' and 'Answer'\n",
    "import re\n",
    "def clean_text(text):\n",
    "    text = text.lower()\n",
    "    text = re.sub('[^A-Za-z0-9\\s]', '', text)\n",
    "    text = re.sub('\\s+', ' ', text)\n",
    "    return text\n"
   ]
  },
  {
   "cell_type": "code",
   "execution_count": 6,
   "metadata": {},
   "outputs": [],
   "source": [
    "# Apply function to text columns\n",
    "jeopardy[\"clean_question\"] = jeopardy[\"Question\"].apply(clean_text)\n",
    "jeopardy[\"clean_answer\"] = jeopardy[\"Answer\"].apply(clean_text)"
   ]
  },
  {
   "cell_type": "code",
   "execution_count": 7,
   "metadata": {},
   "outputs": [],
   "source": [
    "# Write a function to normalize column 'Value', remove additinal characters, change to integer, change to zero if exception\n",
    "import re\n",
    "def clean_value(value):\n",
    "    value = re.sub('[^A-Za-z0-9\\s]', '', value)\n",
    "    try:\n",
    "        value = int(value)\n",
    "    except Exception:\n",
    "        value = 0\n",
    "    return value\n"
   ]
  },
  {
   "cell_type": "code",
   "execution_count": 8,
   "metadata": {},
   "outputs": [],
   "source": [
    "# Apply function to 'Value' column\n",
    "jeopardy[\"clean_value\"] = jeopardy[\"Value\"].apply(clean_value)"
   ]
  },
  {
   "cell_type": "code",
   "execution_count": 9,
   "metadata": {},
   "outputs": [],
   "source": [
    "# Convert 'Air Date' column to datetime format\n",
    "jeopardy[\"Air Date\"] = pd.to_datetime(jeopardy[\"Air Date\"])"
   ]
  },
  {
   "cell_type": "code",
   "execution_count": 10,
   "metadata": {
    "scrolled": true
   },
   "outputs": [
    {
     "name": "stdout",
     "output_type": "stream",
     "text": [
      "<class 'pandas.core.frame.DataFrame'>\n",
      "RangeIndex: 19999 entries, 0 to 19998\n",
      "Data columns (total 10 columns):\n",
      " #   Column          Non-Null Count  Dtype         \n",
      "---  ------          --------------  -----         \n",
      " 0   Show Number     19999 non-null  int64         \n",
      " 1   Air Date        19999 non-null  datetime64[ns]\n",
      " 2   Round           19999 non-null  object        \n",
      " 3   Category        19999 non-null  object        \n",
      " 4   Value           19999 non-null  object        \n",
      " 5   Question        19999 non-null  object        \n",
      " 6   Answer          19999 non-null  object        \n",
      " 7   clean_question  19999 non-null  object        \n",
      " 8   clean_answer    19999 non-null  object        \n",
      " 9   clean_value     19999 non-null  int64         \n",
      "dtypes: datetime64[ns](1), int64(2), object(7)\n",
      "memory usage: 1.5+ MB\n"
     ]
    }
   ],
   "source": [
    "jeopardy.info()"
   ]
  },
  {
   "cell_type": "code",
   "execution_count": 11,
   "metadata": {
    "scrolled": false
   },
   "outputs": [
    {
     "data": {
      "text/html": [
       "<div>\n",
       "<style scoped>\n",
       "    .dataframe tbody tr th:only-of-type {\n",
       "        vertical-align: middle;\n",
       "    }\n",
       "\n",
       "    .dataframe tbody tr th {\n",
       "        vertical-align: top;\n",
       "    }\n",
       "\n",
       "    .dataframe thead th {\n",
       "        text-align: right;\n",
       "    }\n",
       "</style>\n",
       "<table border=\"1\" class=\"dataframe\">\n",
       "  <thead>\n",
       "    <tr style=\"text-align: right;\">\n",
       "      <th></th>\n",
       "      <th>Show Number</th>\n",
       "      <th>Air Date</th>\n",
       "      <th>Round</th>\n",
       "      <th>Category</th>\n",
       "      <th>Value</th>\n",
       "      <th>Question</th>\n",
       "      <th>Answer</th>\n",
       "      <th>clean_question</th>\n",
       "      <th>clean_answer</th>\n",
       "      <th>clean_value</th>\n",
       "    </tr>\n",
       "  </thead>\n",
       "  <tbody>\n",
       "    <tr>\n",
       "      <th>0</th>\n",
       "      <td>4680</td>\n",
       "      <td>2004-12-31</td>\n",
       "      <td>Jeopardy!</td>\n",
       "      <td>HISTORY</td>\n",
       "      <td>$200</td>\n",
       "      <td>For the last 8 years of his life, Galileo was ...</td>\n",
       "      <td>Copernicus</td>\n",
       "      <td>for the last 8 years of his life galileo was u...</td>\n",
       "      <td>copernicus</td>\n",
       "      <td>200</td>\n",
       "    </tr>\n",
       "    <tr>\n",
       "      <th>1</th>\n",
       "      <td>4680</td>\n",
       "      <td>2004-12-31</td>\n",
       "      <td>Jeopardy!</td>\n",
       "      <td>ESPN's TOP 10 ALL-TIME ATHLETES</td>\n",
       "      <td>$200</td>\n",
       "      <td>No. 2: 1912 Olympian; football star at Carlisl...</td>\n",
       "      <td>Jim Thorpe</td>\n",
       "      <td>no 2 1912 olympian football star at carlisle i...</td>\n",
       "      <td>jim thorpe</td>\n",
       "      <td>200</td>\n",
       "    </tr>\n",
       "    <tr>\n",
       "      <th>2</th>\n",
       "      <td>4680</td>\n",
       "      <td>2004-12-31</td>\n",
       "      <td>Jeopardy!</td>\n",
       "      <td>EVERYBODY TALKS ABOUT IT...</td>\n",
       "      <td>$200</td>\n",
       "      <td>The city of Yuma in this state has a record av...</td>\n",
       "      <td>Arizona</td>\n",
       "      <td>the city of yuma in this state has a record av...</td>\n",
       "      <td>arizona</td>\n",
       "      <td>200</td>\n",
       "    </tr>\n",
       "    <tr>\n",
       "      <th>3</th>\n",
       "      <td>4680</td>\n",
       "      <td>2004-12-31</td>\n",
       "      <td>Jeopardy!</td>\n",
       "      <td>THE COMPANY LINE</td>\n",
       "      <td>$200</td>\n",
       "      <td>In 1963, live on \"The Art Linkletter Show\", th...</td>\n",
       "      <td>McDonald's</td>\n",
       "      <td>in 1963 live on the art linkletter show this c...</td>\n",
       "      <td>mcdonalds</td>\n",
       "      <td>200</td>\n",
       "    </tr>\n",
       "    <tr>\n",
       "      <th>4</th>\n",
       "      <td>4680</td>\n",
       "      <td>2004-12-31</td>\n",
       "      <td>Jeopardy!</td>\n",
       "      <td>EPITAPHS &amp; TRIBUTES</td>\n",
       "      <td>$200</td>\n",
       "      <td>Signer of the Dec. of Indep., framer of the Co...</td>\n",
       "      <td>John Adams</td>\n",
       "      <td>signer of the dec of indep framer of the const...</td>\n",
       "      <td>john adams</td>\n",
       "      <td>200</td>\n",
       "    </tr>\n",
       "  </tbody>\n",
       "</table>\n",
       "</div>"
      ],
      "text/plain": [
       "   Show Number   Air Date      Round                         Category Value  \\\n",
       "0         4680 2004-12-31  Jeopardy!                          HISTORY  $200   \n",
       "1         4680 2004-12-31  Jeopardy!  ESPN's TOP 10 ALL-TIME ATHLETES  $200   \n",
       "2         4680 2004-12-31  Jeopardy!      EVERYBODY TALKS ABOUT IT...  $200   \n",
       "3         4680 2004-12-31  Jeopardy!                 THE COMPANY LINE  $200   \n",
       "4         4680 2004-12-31  Jeopardy!              EPITAPHS & TRIBUTES  $200   \n",
       "\n",
       "                                            Question      Answer  \\\n",
       "0  For the last 8 years of his life, Galileo was ...  Copernicus   \n",
       "1  No. 2: 1912 Olympian; football star at Carlisl...  Jim Thorpe   \n",
       "2  The city of Yuma in this state has a record av...     Arizona   \n",
       "3  In 1963, live on \"The Art Linkletter Show\", th...  McDonald's   \n",
       "4  Signer of the Dec. of Indep., framer of the Co...  John Adams   \n",
       "\n",
       "                                      clean_question clean_answer  clean_value  \n",
       "0  for the last 8 years of his life galileo was u...   copernicus          200  \n",
       "1  no 2 1912 olympian football star at carlisle i...   jim thorpe          200  \n",
       "2  the city of yuma in this state has a record av...      arizona          200  \n",
       "3  in 1963 live on the art linkletter show this c...    mcdonalds          200  \n",
       "4  signer of the dec of indep framer of the const...   john adams          200  "
      ]
     },
     "execution_count": 11,
     "metadata": {},
     "output_type": "execute_result"
    }
   ],
   "source": [
    "jeopardy.head()"
   ]
  },
  {
   "cell_type": "markdown",
   "metadata": {},
   "source": [
    "### Textual Analysis I- Determining Answers in Questions\n",
    "\n",
    "In order to figure out whether to study past questions, study general knowledge, or not study at all, it would be helpful to figure out two things:\n",
    "\n",
    "- How often the answer is deducible from the question.\n",
    "- How often new questions are repeats of older questions.\n",
    "\n",
    "We can answer the first question by seeing how many times words in the answer also occur in the question.\n",
    "\n",
    "For answering first question, we will write a function which can split and compare the two columns `clean_question` and `clean_answer` and return a count of matches. "
   ]
  },
  {
   "cell_type": "code",
   "execution_count": 12,
   "metadata": {},
   "outputs": [],
   "source": [
    "# Write a function to count word match count in columns 'clean_answer' and 'clean_question'\n",
    "def word_match(row):\n",
    "    split_answer = row['clean_answer'].split()\n",
    "    split_question = row['clean_question'].split()\n",
    "    match_count = 0\n",
    "    \n",
    "    if 'the' in split_answer:\n",
    "        split_answer.remove('the')\n",
    "    if len(split_answer) == 0:\n",
    "        return 0\n",
    "    for word in split_answer:\n",
    "        if word in split_question:\n",
    "            match_count += 1\n",
    "    return match_count / len(split_answer)            "
   ]
  },
  {
   "cell_type": "code",
   "execution_count": 13,
   "metadata": {
    "scrolled": false
   },
   "outputs": [
    {
     "data": {
      "text/html": [
       "<div>\n",
       "<style scoped>\n",
       "    .dataframe tbody tr th:only-of-type {\n",
       "        vertical-align: middle;\n",
       "    }\n",
       "\n",
       "    .dataframe tbody tr th {\n",
       "        vertical-align: top;\n",
       "    }\n",
       "\n",
       "    .dataframe thead th {\n",
       "        text-align: right;\n",
       "    }\n",
       "</style>\n",
       "<table border=\"1\" class=\"dataframe\">\n",
       "  <thead>\n",
       "    <tr style=\"text-align: right;\">\n",
       "      <th></th>\n",
       "      <th>Show Number</th>\n",
       "      <th>Air Date</th>\n",
       "      <th>Round</th>\n",
       "      <th>Category</th>\n",
       "      <th>Value</th>\n",
       "      <th>Question</th>\n",
       "      <th>Answer</th>\n",
       "      <th>clean_question</th>\n",
       "      <th>clean_answer</th>\n",
       "      <th>clean_value</th>\n",
       "      <th>answer_in_question</th>\n",
       "    </tr>\n",
       "  </thead>\n",
       "  <tbody>\n",
       "    <tr>\n",
       "      <th>0</th>\n",
       "      <td>4680</td>\n",
       "      <td>2004-12-31</td>\n",
       "      <td>Jeopardy!</td>\n",
       "      <td>HISTORY</td>\n",
       "      <td>$200</td>\n",
       "      <td>For the last 8 years of his life, Galileo was ...</td>\n",
       "      <td>Copernicus</td>\n",
       "      <td>for the last 8 years of his life galileo was u...</td>\n",
       "      <td>copernicus</td>\n",
       "      <td>200</td>\n",
       "      <td>0.0</td>\n",
       "    </tr>\n",
       "    <tr>\n",
       "      <th>1</th>\n",
       "      <td>4680</td>\n",
       "      <td>2004-12-31</td>\n",
       "      <td>Jeopardy!</td>\n",
       "      <td>ESPN's TOP 10 ALL-TIME ATHLETES</td>\n",
       "      <td>$200</td>\n",
       "      <td>No. 2: 1912 Olympian; football star at Carlisl...</td>\n",
       "      <td>Jim Thorpe</td>\n",
       "      <td>no 2 1912 olympian football star at carlisle i...</td>\n",
       "      <td>jim thorpe</td>\n",
       "      <td>200</td>\n",
       "      <td>0.0</td>\n",
       "    </tr>\n",
       "    <tr>\n",
       "      <th>2</th>\n",
       "      <td>4680</td>\n",
       "      <td>2004-12-31</td>\n",
       "      <td>Jeopardy!</td>\n",
       "      <td>EVERYBODY TALKS ABOUT IT...</td>\n",
       "      <td>$200</td>\n",
       "      <td>The city of Yuma in this state has a record av...</td>\n",
       "      <td>Arizona</td>\n",
       "      <td>the city of yuma in this state has a record av...</td>\n",
       "      <td>arizona</td>\n",
       "      <td>200</td>\n",
       "      <td>0.0</td>\n",
       "    </tr>\n",
       "    <tr>\n",
       "      <th>3</th>\n",
       "      <td>4680</td>\n",
       "      <td>2004-12-31</td>\n",
       "      <td>Jeopardy!</td>\n",
       "      <td>THE COMPANY LINE</td>\n",
       "      <td>$200</td>\n",
       "      <td>In 1963, live on \"The Art Linkletter Show\", th...</td>\n",
       "      <td>McDonald's</td>\n",
       "      <td>in 1963 live on the art linkletter show this c...</td>\n",
       "      <td>mcdonalds</td>\n",
       "      <td>200</td>\n",
       "      <td>0.0</td>\n",
       "    </tr>\n",
       "    <tr>\n",
       "      <th>4</th>\n",
       "      <td>4680</td>\n",
       "      <td>2004-12-31</td>\n",
       "      <td>Jeopardy!</td>\n",
       "      <td>EPITAPHS &amp; TRIBUTES</td>\n",
       "      <td>$200</td>\n",
       "      <td>Signer of the Dec. of Indep., framer of the Co...</td>\n",
       "      <td>John Adams</td>\n",
       "      <td>signer of the dec of indep framer of the const...</td>\n",
       "      <td>john adams</td>\n",
       "      <td>200</td>\n",
       "      <td>0.0</td>\n",
       "    </tr>\n",
       "  </tbody>\n",
       "</table>\n",
       "</div>"
      ],
      "text/plain": [
       "   Show Number   Air Date      Round                         Category Value  \\\n",
       "0         4680 2004-12-31  Jeopardy!                          HISTORY  $200   \n",
       "1         4680 2004-12-31  Jeopardy!  ESPN's TOP 10 ALL-TIME ATHLETES  $200   \n",
       "2         4680 2004-12-31  Jeopardy!      EVERYBODY TALKS ABOUT IT...  $200   \n",
       "3         4680 2004-12-31  Jeopardy!                 THE COMPANY LINE  $200   \n",
       "4         4680 2004-12-31  Jeopardy!              EPITAPHS & TRIBUTES  $200   \n",
       "\n",
       "                                            Question      Answer  \\\n",
       "0  For the last 8 years of his life, Galileo was ...  Copernicus   \n",
       "1  No. 2: 1912 Olympian; football star at Carlisl...  Jim Thorpe   \n",
       "2  The city of Yuma in this state has a record av...     Arizona   \n",
       "3  In 1963, live on \"The Art Linkletter Show\", th...  McDonald's   \n",
       "4  Signer of the Dec. of Indep., framer of the Co...  John Adams   \n",
       "\n",
       "                                      clean_question clean_answer  \\\n",
       "0  for the last 8 years of his life galileo was u...   copernicus   \n",
       "1  no 2 1912 olympian football star at carlisle i...   jim thorpe   \n",
       "2  the city of yuma in this state has a record av...      arizona   \n",
       "3  in 1963 live on the art linkletter show this c...    mcdonalds   \n",
       "4  signer of the dec of indep framer of the const...   john adams   \n",
       "\n",
       "   clean_value  answer_in_question  \n",
       "0          200                 0.0  \n",
       "1          200                 0.0  \n",
       "2          200                 0.0  \n",
       "3          200                 0.0  \n",
       "4          200                 0.0  "
      ]
     },
     "execution_count": 13,
     "metadata": {},
     "output_type": "execute_result"
    }
   ],
   "source": [
    "# Apply function to dataset jeopardy and store values in a new column 'answer_in_question' \n",
    "jeopardy[\"answer_in_question\"] = jeopardy.apply(word_match, axis=1)\n",
    "\n",
    "jeopardy.head()"
   ]
  },
  {
   "cell_type": "code",
   "execution_count": 14,
   "metadata": {},
   "outputs": [
    {
     "data": {
      "image/png": "[encoded data removed]",
      "text/plain": [
       "<Figure size 576x432 with 1 Axes>"
      ]
     },
     "metadata": {
      "needs_background": "light"
     },
     "output_type": "display_data"
    }
   ],
   "source": [
    "fig = plt.figure(figsize=(8, 6))\n",
    "plt.style.use('fivethirtyeight')\n",
    "jeopardy.answer_in_question.plot.kde(color = 'red', title = 'Distribution of Matches', fontsize = 8)\n",
    "plt.xticks(np.arange(0, 1, 0.1))\n",
    "plt.show()"
   ]
  },
  {
   "cell_type": "code",
   "execution_count": 15,
   "metadata": {},
   "outputs": [
    {
     "data": {
      "text/plain": [
       "0.059001965249777744"
      ]
     },
     "execution_count": 15,
     "metadata": {},
     "output_type": "execute_result"
    }
   ],
   "source": [
    "# Find mean of column 'answer_in_question'\n",
    "mean = jeopardy.answer_in_question.mean()\n",
    "mean"
   ]
  },
  {
   "cell_type": "markdown",
   "metadata": {},
   "source": [
    "It can be seen that the mean matches of answers with questions are very low (approx 6%), so this may not be a very useful strategy on its own for studying or preparing for jeopardy. Most of the values in the plot as seen above are distributed around zero."
   ]
  },
  {
   "cell_type": "markdown",
   "metadata": {},
   "source": [
    "### Textual Analysis II - Analysing Recycled Questions\n",
    "This relates to the second question in our textual analysis strategy i.e.:\n",
    "- How often new questions are repeats of older questions?\n",
    "\n",
    "We can answer this question by seeing how often complex words (> 6 characters) reoccur. Though, we can't completely answer this, because we only have about 10% of the full Jeopardy question dataset, but we can investigate it at least.\n",
    "\n",
    "To do this, we will:\n",
    "\n",
    "- Sort `jeopardy` in order of ascending air date.\n",
    "- Maintain a set called `terms_used` that will be empty initially.\n",
    "- Iterate through each row of `jeopardy`.\n",
    "- Split `clean_question` into words, remove any word shorter than 6 characters, and check if each word occurs in `terms_used`.\n",
    "If it does, increment a counter.\n",
    "- Add each word to terms_used.\n",
    "\n",
    "Above will enable us to check if the terms in questions have been used previously or not. Only looking at words with six or more characters enables us to filter out words like 'the' and 'than' etc., which are commonly used but don't tell us a lot about a question."
   ]
  },
  {
   "cell_type": "code",
   "execution_count": 16,
   "metadata": {},
   "outputs": [
    {
     "data": {
      "text/html": [
       "<div>\n",
       "<style scoped>\n",
       "    .dataframe tbody tr th:only-of-type {\n",
       "        vertical-align: middle;\n",
       "    }\n",
       "\n",
       "    .dataframe tbody tr th {\n",
       "        vertical-align: top;\n",
       "    }\n",
       "\n",
       "    .dataframe thead th {\n",
       "        text-align: right;\n",
       "    }\n",
       "</style>\n",
       "<table border=\"1\" class=\"dataframe\">\n",
       "  <thead>\n",
       "    <tr style=\"text-align: right;\">\n",
       "      <th></th>\n",
       "      <th>Show Number</th>\n",
       "      <th>Air Date</th>\n",
       "      <th>Round</th>\n",
       "      <th>Category</th>\n",
       "      <th>Value</th>\n",
       "      <th>Question</th>\n",
       "      <th>Answer</th>\n",
       "      <th>clean_question</th>\n",
       "      <th>clean_answer</th>\n",
       "      <th>clean_value</th>\n",
       "      <th>answer_in_question</th>\n",
       "      <th>question_overlap</th>\n",
       "    </tr>\n",
       "  </thead>\n",
       "  <tbody>\n",
       "    <tr>\n",
       "      <th>1953</th>\n",
       "      <td>6294</td>\n",
       "      <td>2012-01-19</td>\n",
       "      <td>Double Jeopardy!</td>\n",
       "      <td>WEAPONS OF WORLD WAR II</td>\n",
       "      <td>$800</td>\n",
       "      <td>Ships in the U.S. Navy's Casablanca class of \"...</td>\n",
       "      <td>aircraft carriers</td>\n",
       "      <td>ships in the us navys casablanca class of esco...</td>\n",
       "      <td>aircraft carriers</td>\n",
       "      <td>800</td>\n",
       "      <td>0.0</td>\n",
       "      <td>0.818182</td>\n",
       "    </tr>\n",
       "    <tr>\n",
       "      <th>1954</th>\n",
       "      <td>6294</td>\n",
       "      <td>2012-01-19</td>\n",
       "      <td>Double Jeopardy!</td>\n",
       "      <td>ACTING PRESIDENTS ON TV</td>\n",
       "      <td>$800</td>\n",
       "      <td>Dennis Haysbert &amp; D.B. Woodside as David &amp; Way...</td>\n",
       "      <td>24</td>\n",
       "      <td>dennis haysbert db woodside as david wayne pal...</td>\n",
       "      <td>24</td>\n",
       "      <td>800</td>\n",
       "      <td>0.0</td>\n",
       "      <td>0.333333</td>\n",
       "    </tr>\n",
       "    <tr>\n",
       "      <th>1955</th>\n",
       "      <td>6294</td>\n",
       "      <td>2012-01-19</td>\n",
       "      <td>Double Jeopardy!</td>\n",
       "      <td>4 N</td>\n",
       "      <td>$800</td>\n",
       "      <td>\"U\" know it means not deliberate; I'm sorry, t...</td>\n",
       "      <td>unintentional</td>\n",
       "      <td>u know it means not deliberate im sorry that s...</td>\n",
       "      <td>unintentional</td>\n",
       "      <td>800</td>\n",
       "      <td>0.0</td>\n",
       "      <td>1.125000</td>\n",
       "    </tr>\n",
       "    <tr>\n",
       "      <th>1945</th>\n",
       "      <td>6294</td>\n",
       "      <td>2012-01-19</td>\n",
       "      <td>Double Jeopardy!</td>\n",
       "      <td>AMERICAN HISTORY</td>\n",
       "      <td>$400</td>\n",
       "      <td>In December 1974 this former New York governor...</td>\n",
       "      <td>Rockefeller</td>\n",
       "      <td>in december 1974 this former new york governor...</td>\n",
       "      <td>rockefeller</td>\n",
       "      <td>400</td>\n",
       "      <td>0.0</td>\n",
       "      <td>0.875000</td>\n",
       "    </tr>\n",
       "    <tr>\n",
       "      <th>1922</th>\n",
       "      <td>6294</td>\n",
       "      <td>2012-01-19</td>\n",
       "      <td>Jeopardy!</td>\n",
       "      <td>THAT'S BUSINESS</td>\n",
       "      <td>$400</td>\n",
       "      <td>In 1997 Tyco International moved to this U.K. ...</td>\n",
       "      <td>Bermuda</td>\n",
       "      <td>in 1997 tyco international moved to this uk te...</td>\n",
       "      <td>bermuda</td>\n",
       "      <td>400</td>\n",
       "      <td>0.0</td>\n",
       "      <td>0.777778</td>\n",
       "    </tr>\n",
       "  </tbody>\n",
       "</table>\n",
       "</div>"
      ],
      "text/plain": [
       "      Show Number   Air Date             Round                 Category Value  \\\n",
       "1953         6294 2012-01-19  Double Jeopardy!  WEAPONS OF WORLD WAR II  $800   \n",
       "1954         6294 2012-01-19  Double Jeopardy!  ACTING PRESIDENTS ON TV  $800   \n",
       "1955         6294 2012-01-19  Double Jeopardy!                      4 N  $800   \n",
       "1945         6294 2012-01-19  Double Jeopardy!         AMERICAN HISTORY  $400   \n",
       "1922         6294 2012-01-19         Jeopardy!          THAT'S BUSINESS  $400   \n",
       "\n",
       "                                               Question             Answer  \\\n",
       "1953  Ships in the U.S. Navy's Casablanca class of \"...  aircraft carriers   \n",
       "1954  Dennis Haysbert & D.B. Woodside as David & Way...                 24   \n",
       "1955  \"U\" know it means not deliberate; I'm sorry, t...      unintentional   \n",
       "1945  In December 1974 this former New York governor...        Rockefeller   \n",
       "1922  In 1997 Tyco International moved to this U.K. ...            Bermuda   \n",
       "\n",
       "                                         clean_question       clean_answer  \\\n",
       "1953  ships in the us navys casablanca class of esco...  aircraft carriers   \n",
       "1954  dennis haysbert db woodside as david wayne pal...                 24   \n",
       "1955  u know it means not deliberate im sorry that s...      unintentional   \n",
       "1945  in december 1974 this former new york governor...        rockefeller   \n",
       "1922  in 1997 tyco international moved to this uk te...            bermuda   \n",
       "\n",
       "      clean_value  answer_in_question  question_overlap  \n",
       "1953          800                 0.0          0.818182  \n",
       "1954          800                 0.0          0.333333  \n",
       "1955          800                 0.0          1.125000  \n",
       "1945          400                 0.0          0.875000  \n",
       "1922          400                 0.0          0.777778  "
      ]
     },
     "execution_count": 16,
     "metadata": {},
     "output_type": "execute_result"
    }
   ],
   "source": [
    "question_overlap = []\n",
    "terms_used = set()\n",
    "jeopardy = jeopardy.sort_values(\"Air Date\")\n",
    "for index, row in jeopardy.iterrows():\n",
    "    split_question = row[\"clean_question\"].split(\" \")\n",
    "    match_count = 0\n",
    "    for word in split_question:\n",
    "        if len(word) < 6:\n",
    "            split_question.remove(word)\n",
    "        if word in terms_used:\n",
    "            match_count += 1\n",
    "    terms_used.add(word)     \n",
    "    if len(split_question) > 0:\n",
    "            match_count /= len(split_question)\n",
    "    question_overlap.append(match_count)      \n",
    "\n",
    "jeopardy[\"question_overlap\"] = question_overlap\n",
    "jeopardy.tail()"
   ]
  },
  {
   "cell_type": "code",
   "execution_count": 17,
   "metadata": {
    "scrolled": true
   },
   "outputs": [
    {
     "data": {
      "text/plain": [
       "0.6895298136657917"
      ]
     },
     "execution_count": 17,
     "metadata": {},
     "output_type": "execute_result"
    }
   ],
   "source": [
    "jeopardy[\"question_overlap\"].mean()"
   ]
  },
  {
   "cell_type": "code",
   "execution_count": 18,
   "metadata": {
    "scrolled": true
   },
   "outputs": [
    {
     "data": {
      "image/png": "[encoded data removed]",
      "text/plain": [
       "<Figure size 576x432 with 1 Axes>"
      ]
     },
     "metadata": {},
     "output_type": "display_data"
    }
   ],
   "source": [
    "fig = plt.figure(figsize=(8, 6))\n",
    "plt.style.use('fivethirtyeight')\n",
    "jeopardy.question_overlap.plot.kde(color = 'red', title = 'Distribution of Matches', fontsize = 8)\n",
    "plt.xticks(np.arange(0, 1, 0.2))\n",
    "plt.show()"
   ]
  },
  {
   "cell_type": "markdown",
   "metadata": {},
   "source": [
    "It can be seen that the mean matches of answers with questions are fairly high (approx 69%), so this may be a useful strategy  for studying or preparing for jeopardy. Most of the values in the plot as seen above are distributed around 0.7. However, this only looks at terms in new questions and old question; combination of words (phrases) are ignored. We need to investigate it further. "
   ]
  },
  {
   "cell_type": "markdown",
   "metadata": {},
   "source": [
    "### Low and High Value \n",
    "\n",
    "We can further refine this analysis by categorizing the questions as 'low-value' and 'high-value' and count the terms corresponding to high or low value questions using a chi-squared test. For now, we will focus on high-value questions.\n",
    "\n",
    "We'll first narrow down the questions into two categories:\n",
    "\n",
    "- Low value -- Any row where Value is less than 800.\n",
    "- High value -- Any row where Value is greater than 800.\n",
    "\n",
    "We'll then loop through each of the terms from the set `terms_used`, and:\n",
    "\n",
    "- Find the number of low value questions the word occurs in.\n",
    "- Find the number of high value questions the word occurs in.\n",
    "- Find the percentage of questions the word occurs in.\n",
    "- Based on the percentage of questions the word occurs in, find expected counts.\n",
    "- Compute the chi squared value based on the expected counts and the observed counts for high and low value questions.\n",
    "We can then find the words with the biggest differences in usage between high and low value questions, by selecting the words with the highest associated chi-squared values. Doing this for all of the words would take a very long time, so we'll just do it for a small sample now."
   ]
  },
  {
   "cell_type": "markdown",
   "metadata": {},
   "source": [
    "We will first create a function that takes in a row from a Dataframe, and:\n",
    "If the `clean_value` column is greater than 800, assigns 1 to value.\n",
    "Otherwise, assigns 0 to value.\n",
    "Return `value`.\n",
    "Apply function to the dataset `jeopardy`"
   ]
  },
  {
   "cell_type": "code",
   "execution_count": 19,
   "metadata": {},
   "outputs": [
    {
     "data": {
      "text/plain": [
       "0.43572178608930445"
      ]
     },
     "execution_count": 19,
     "metadata": {},
     "output_type": "execute_result"
    }
   ],
   "source": [
    "def high_value(row):\n",
    "    value = 0\n",
    "    if row['clean_value'] >= 800:\n",
    "        value = 1\n",
    "    return value    \n",
    "jeopardy['high_value'] = jeopardy.apply(high_value, axis=1)\n",
    "jeopardy.high_value.sum()/len(jeopardy.high_value)"
   ]
  },
  {
   "cell_type": "markdown",
   "metadata": {},
   "source": [
    "From above it can be seen that about 44% questions are categorized as high-value. Since, we are interested in finding expected counts, we need to find total word count for questions categorized as high-value as well as low-value. We will write a function for that.  "
   ]
  },
  {
   "cell_type": "code",
   "execution_count": 20,
   "metadata": {},
   "outputs": [],
   "source": [
    "def count_word(word):\n",
    "    low_count = 0\n",
    "    high_count = 0\n",
    "    for index, row in jeopardy.iterrows():\n",
    "        split_question = row['clean_question'].split(' ')\n",
    "        if word in split_question:\n",
    "            if row['high_value'] == 1:\n",
    "                high_count += 1\n",
    "            else:\n",
    "                low_count +=1\n",
    "    return high_count, low_count        \n",
    "                           "
   ]
  },
  {
   "cell_type": "markdown",
   "metadata": {},
   "source": [
    "We will work with a sample instead of the entire dataset in order to save computational resources, by picking up ten words at random from the set `terms_used` created earlier and applying the function `count_words`."
   ]
  },
  {
   "cell_type": "code",
   "execution_count": 21,
   "metadata": {
    "scrolled": true
   },
   "outputs": [
    {
     "name": "stdout",
     "output_type": "stream",
     "text": [
      "['culdesac', 'basket', 'descended', 'special', 'mountains', 'identical', 'vixen', 'independencia', 'ages', 'graciea']\n",
      "[(1, 0), (3, 3), (7, 2), (15, 19), (18, 18), (1, 4), (0, 1), (1, 0), (6, 6), (0, 1)]\n"
     ]
    }
   ],
   "source": [
    "terms_used_list = list(terms_used) # Convert the set to list\n",
    "comparison_terms = []\n",
    "import random\n",
    "for i in range(10):\n",
    "    word =  random.choice(terms_used_list) # choice function picks up one random at a time word from list, tuple or string\n",
    "    comparison_terms.append(word)\n",
    "# Create a list to contain high_count and low_count values from comparison_terms\n",
    "observed_expected = [] # Observed values\n",
    "for word in comparison_terms:\n",
    "    observed_expected.append(count_word(word))\n",
    "print(comparison_terms)    \n",
    "print(observed_expected)"
   ]
  },
  {
   "cell_type": "markdown",
   "metadata": {},
   "source": [
    "### Chi-Squared Test\n",
    "Finally we wil find the expected values and apply the chi-squared test and p-value for each word in the given sample of words."
   ]
  },
  {
   "cell_type": "code",
   "execution_count": 25,
   "metadata": {
    "scrolled": true
   },
   "outputs": [
    {
     "data": {
      "text/plain": [
       "[Power_divergenceResult(statistic=11.176541727723734, pvalue=0.0008283803174322232),\n",
       " Power_divergenceResult(statistic=66.4692943747559, pvalue=3.5538665717031723e-16),\n",
       " Power_divergenceResult(statistic=100.02175882373152, pvalue=1.5073197124996154e-23),\n",
       " Power_divergenceResult(statistic=376.61570111433804, pvalue=6.788672542236685e-84),\n",
       " Power_divergenceResult(statistic=398.8157662485355, pvalue=9.970763066104784e-89),\n",
       " Power_divergenceResult(statistic=55.47153614964141, pvalue=9.48221387660514e-14),\n",
       " Power_divergenceResult(statistic=11.136321188780204, pvalue=0.000846536134458528),\n",
       " Power_divergenceResult(statistic=11.176541727723734, pvalue=0.0008283803174322232),\n",
       " Power_divergenceResult(statistic=132.9385887495118, pvalue=9.325221511674942e-31),\n",
       " Power_divergenceResult(statistic=11.136321188780204, pvalue=0.000846536134458528)]"
      ]
     },
     "execution_count": 25,
     "metadata": {},
     "output_type": "execute_result"
    }
   ],
   "source": [
    "# number of rows with high-value and low value\n",
    "from scipy.stats import chisquare\n",
    "high_value_count = jeopardy[jeopardy['high_value'] == 1].size \n",
    "low_value_count = jeopardy[jeopardy['high_value'] == 0].size \n",
    "chi_squared = []\n",
    "for list in observed_expected:\n",
    "    total = sum(list)\n",
    "    total_prop = total/jeopardy.shape[0]\n",
    "    high_value_exp = high_value_count * total_prop\n",
    "    low_value_exp = low_value_count * total_prop\n",
    "    \n",
    "    observed = np.array([list[0], list[1]])\n",
    "    expected = np.array([high_value_exp, low_value_exp])\n",
    "    chi_squared.append(chisquare(f_obs = observed, f_exp = expected))\n",
    "chi_squared    "
   ]
  },
  {
   "cell_type": "markdown",
   "metadata": {},
   "source": [
    "### Conclusion\n",
    "We can draw following conclusions:\n",
    "- In order to confirm or reject the alternative hypothesis that the quiz shows like 'Jeopardy' follow a set pattern, we considered 3 cases:\n",
    "1. **Answers in Questions**: The test statistic in this case i.e. the mean was not found to be statistically significant.\n",
    "2. **Recycled Questions**: The test statistic in tis case i.e. the mean had a high value but it was not tested for statistic significance because a number of other factors such as compound words, phrases and sequence of words also play an important part and mere repetition of words in questions may lead to misleading conclusions.\n",
    "3. **High Value Questions**: The test statistic in this case i.e. **chi-square** could only be determined for a sample of 10 words out of a total of over 6500 unique words due to the requirements of high computational power. Above results appear promising with p_values in almost all cases(ten) less than 1%. But it is a very small sample and depends a great deal on the re-running of the code where the sample was drawn. A next run may yield entirely different results.  "
   ]
  }
 ],
 "metadata": {
  "kernelspec": {
   "display_name": "Python 3",
   "language": "python",
   "name": "python3"
  },
  "language_info": {
   "codemirror_mode": {
    "name": "ipython",
    "version": 3
   },
   "file_extension": ".py",
   "mimetype": "text/x-python",
   "name": "python",
   "nbconvert_exporter": "python",
   "pygments_lexer": "ipython3",
   "version": "3.8.3"
  }
 },
 "nbformat": 4,
 "nbformat_minor": 4
}

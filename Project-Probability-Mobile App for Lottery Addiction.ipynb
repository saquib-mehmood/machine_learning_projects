{
 "cells": [
  {
   "cell_type": "markdown",
   "metadata": {},
   "source": [
    "# Project - Probability: Mobile Application for Lottery Addiction\n",
    "\n",
    "**Background and Aim**: We have been hired by a medical institute which treats lottery addiction to create the logical core of the app they are building to help lottery addicts better estimate their chances of winning, and thus avoid making untenable financial commitments where odds are not worth it. We have to examine [\"Lotto 6/49\"](https://en.wikipedia.org/wiki/Lotto_6/49), Canada's national lottery, and calculate probabilities.\n",
    "\n",
    "We will be focused on building functions in order to answer questions like:\n",
    "\n",
    "- What is the probability of winning the big prize with a single ticket?\n",
    "- What is the probability of winning the big prize if we play 40 different tickets (or any other number)?\n",
    "- What is the probability of having at least five (or four, or three, or two) winning numbers on a single ticket?\n",
    "\n",
    "**Dataset**: We are also required to consider historical data coming from the national [6/49 lottery game](https://en.wikipedia.org/wiki/Lotto_6/49) in Canada. The [data set](https://www.kaggle.com/datascienceai/lottery-dataset) available on kaggle, has data for 3,665 drawings, dating from 1982 to 2018.\n",
    "\n",
    "**Data Analysis Strategy**: \n",
    "- We will write a package (or library) of core functions to automate the tasks involved in analysis. These functions will include simple basic functions such as ones which calculate factorials to more complicated nested functions which calculate probabilities for various scenarios.\n",
    "- We will also analyze historical data of winning combinations in order to provide the users of the app with a broader perspective of the odds they have for winning the big prize in lottery."
   ]
  },
  {
   "cell_type": "code",
   "execution_count": 1,
   "metadata": {},
   "outputs": [],
   "source": [
    "# Import all required libraries\n",
    "import pandas as pd\n",
    "import numpy as np\n",
    "import matplotlib.pyplot as plt\n",
    "import seaborn as sns\n",
    "%matplotlib inline\n",
    "# Setting pandas display options for large data\n",
    "pd.options.display.max_rows = 200\n",
    "pd.options.display.max_columns = 150"
   ]
  },
  {
   "cell_type": "markdown",
   "metadata": {},
   "source": [
    "### Create a library of probability functions\n",
    "\n",
    "The series of different probability functions are written as a library which can be used for various probability calculations."
   ]
  },
  {
   "cell_type": "code",
   "execution_count": 2,
   "metadata": {},
   "outputs": [],
   "source": [
    "# Event Probability Function\n",
    "\n",
    "def event_probability(n, s=1):\n",
    "    \"\"\" Calculates the probability of an event\n",
    "    Args:\n",
    "    n(int): total number of possible outcomes\n",
    "    s(int): number of successful outcomes, default: 1\n",
    "    Returns:\n",
    "    float: empirical and/ or theoretical probability of an event\n",
    "    \"\"\"\n",
    "    probability = s/ n\n",
    "    return probability"
   ]
  },
  {
   "cell_type": "code",
   "execution_count": 3,
   "metadata": {},
   "outputs": [],
   "source": [
    "# Complement of probability Function\n",
    "\n",
    "def non_probability(n, s=1): # p_e is probability of event\n",
    "    \"\"\" Calculates the non-probability or complement probability of an event\n",
    "    Args:\n",
    "    n(int): total number of possible outcomes\n",
    "    s(int): number of successful outcomes, default: 1\n",
    "    Returns:\n",
    "    float: empirical and/ or theoretical probability of an event\n",
    "    \"\"\"\n",
    "    probability = s/ n\n",
    "    non_probability = 1 - probability\n",
    "    return non_probability"
   ]
  },
  {
   "cell_type": "code",
   "execution_count": 4,
   "metadata": {},
   "outputs": [],
   "source": [
    "# Intersection Function for events with similar outcomes (repetitive events)\n",
    "def intersection_similar(n, s=1, e=2):\n",
    "    \"\"\" Nested function: calculates the probability of events (1 and 2 and 3 and...e) with similar outcomes \n",
    "        happening together or in a row\n",
    "    Args:\n",
    "    n(int): total number of possible outcomes\n",
    "    s(int): number of successful outcomes, default: 1\n",
    "    e(int): number of events happening together or in a row (e.g. 6 coins tossed together or 1 coin tossed six times)\n",
    "    Returns:\n",
    "    float: empirical and/ or theoretical probability of an event\n",
    "    \"\"\"\n",
    "    def event_probability(n, s):\n",
    "        probability = s/ n\n",
    "        return probability\n",
    "   \n",
    "    intersection_similar = event_probability(n, s) ** e\n",
    "    return intersection_similar        \n",
    "    "
   ]
  },
  {
   "cell_type": "code",
   "execution_count": 5,
   "metadata": {},
   "outputs": [],
   "source": [
    "# Intersection Function for two events with dissimlar outcomes\n",
    "def intersection_dissimilar(n, s2, s1=1):\n",
    "    \"\"\" Nested function: Calculates the probability of two events (1 and 2) with dissimilar outcomes \n",
    "        happening together or in a row (multiplies the probabilities)\n",
    "    Args:\n",
    "    n(int): total number of possible outcomes\n",
    "    s1(int): number of successful outcomes for event 1, default: 1\n",
    "    s2(int): number of successful outcomes for event 2 \n",
    "    Returns:\n",
    "    float: empirical and/ or theoretical probability of an event\n",
    "    \"\"\"\n",
    "    def event_probability_1(n, s1):\n",
    "        probability_1 = s1/ n\n",
    "        return probability_1\n",
    "    \n",
    "    def event_probability_2(n, s2):\n",
    "        probability_2 = s2/ n\n",
    "        return probability_2\n",
    "    \n",
    "   \n",
    "    intersection_dissimilar = event_probability_1(n, s1) * event_probability_2(n, s2)\n",
    "    return intersection_dissimilar"
   ]
  },
  {
   "cell_type": "code",
   "execution_count": 6,
   "metadata": {},
   "outputs": [],
   "source": [
    "# Union Function for two mutually exclusive events\n",
    "\n",
    "def union_me(n, s2, s1=1):\n",
    "    \"\"\" Nested function: Calculates the probability of two events (1 and 2) with similar or dissimilar outcomes \n",
    "        with either or both events happening together or in a row (adds the probabilities)\n",
    "    Args:\n",
    "    n(int): total number of possible outcomes\n",
    "    s1(int): number of successful outcomes for event 1, default: 1\n",
    "    s2(int): number of successful outcomes for event 2 \n",
    "    Returns:\n",
    "    float: empirical and/ or theoretical probability of an event\n",
    "    \"\"\"\n",
    "    def event_probability_1(n, s1):\n",
    "        probability_1 = s1/ n\n",
    "        return probability_1\n",
    "    \n",
    "    def event_probability_2(n, s2):\n",
    "        probability_2 = s2/ n\n",
    "        return probability_2\n",
    "    \n",
    "   \n",
    "    union_me = event_probability_1(n, s1) + event_probability_2(n, s2)\n",
    "    return union_me"
   ]
  },
  {
   "cell_type": "code",
   "execution_count": 7,
   "metadata": {},
   "outputs": [],
   "source": [
    "# Permutation with replacement function for sampling with replacement\n",
    "def permutation_with_repl(n, k):\n",
    "        \"\"\" Calculates number of possible permutations for samples with replacement\n",
    "        Args: \n",
    "        n(int): population size\n",
    "        k(int): sample size \n",
    "        Returns: Number of possible outcomes (permutations) for k items drawn from n items with replacement \"\"\"\n",
    "       \n",
    "        permutation = n**k\n",
    "        return permutation"
   ]
  },
  {
   "cell_type": "code",
   "execution_count": 8,
   "metadata": {},
   "outputs": [],
   "source": [
    "# Probability function for a sample drawn with replacement\n",
    "\n",
    "def probability_with_repl(n, k, s=1):\n",
    "    \"\"\" Nested function: Calculates probability for drawing samples with replacement\n",
    "        Args: \n",
    "        s(int): number of successful outcomes; default = 1\n",
    "        n(int): population size\n",
    "        k(int): sample size\n",
    "        Returns: \n",
    "        Probability for drawing a sample of size k from population of size n with s successful outcomes \"\"\"\n",
    "    \n",
    "    \n",
    "    def permutation(n, k):\n",
    "        \"\"\" Calculates number of possible permutations for samples with replacement\n",
    "        Args: \n",
    "        n: population size\n",
    "        k: sample size \n",
    "        Returns: \n",
    "        Number of possible outcomes (permutations) for k items drawn from n items with replacement \"\"\"\n",
    "       \n",
    "        permutation = n**k\n",
    "        return permutation\n",
    "    \n",
    "    probability = s/ permutation(n, k)\n",
    "    return probability"
   ]
  },
  {
   "cell_type": "code",
   "execution_count": 9,
   "metadata": {},
   "outputs": [],
   "source": [
    "# Factorial function\n",
    "def factorial(n):\n",
    "    \"\"\" Calculates factorial of an integer n\"\"\"\n",
    "    factorial = 1\n",
    "    for i in range(1, n+1, 1):\n",
    "        factorial = (factorial) * (i)\n",
    "    return factorial"
   ]
  },
  {
   "cell_type": "code",
   "execution_count": 10,
   "metadata": {},
   "outputs": [],
   "source": [
    "# Permutation function for all samples without replacement \n",
    "def permutation_total(n):\n",
    "    \"\"\" Calculates total possible permutations for drawing samples without replacement \n",
    "        from a population of size n.\n",
    "        Same as factorial()\n",
    "        \"\"\"\n",
    "    permutation = 1\n",
    "    for i in range(1, n+1, 1):\n",
    "        permutation = (permutation) * (i)\n",
    "    return factorial"
   ]
  },
  {
   "cell_type": "code",
   "execution_count": 11,
   "metadata": {},
   "outputs": [],
   "source": [
    "# Permutation function for drawing k items from n items without replacement\n",
    "\n",
    "def permutation_wo_repl(n, k):\n",
    "    \"\"\" Calculates number of possible permutations for samples of size k without replacement from a populatio of size n\n",
    "    Args: \n",
    "    n = total number of items\n",
    "    k = number of items drawn from n \n",
    "    Returns: Number of possible outcomes (permutations) for k items drawn from n items without replacement \"\"\"\n",
    "    \n",
    "    permutation = n\n",
    "    for i in range(1, k, 1):\n",
    "        permutation = permutation * (n - i)\n",
    "    return permutation"
   ]
  },
  {
   "cell_type": "code",
   "execution_count": 12,
   "metadata": {},
   "outputs": [],
   "source": [
    "# Permutation function for drawing k items from n items without replacement\n",
    "\n",
    "def permutation(n, k):\n",
    "    \"\"\" Nested function: Calculates number of possible permutations for samples of size k without replacement \n",
    "        from a populatio of size n.\n",
    "        Same as permutation_wo_repl ()\n",
    "    Args: \n",
    "    n = total number of items\n",
    "    k = number of items drawn from n \n",
    "    Returns: Number of possible outcomes (permutations) for k items drawn from n items without replacement \"\"\"\n",
    "    def factorial(n):\n",
    "        factorial = 1\n",
    "        for i in range(1, n+1, 1):\n",
    "            factorial = (factorial) * (i)\n",
    "        return factorial\n",
    "   \n",
    "    permutation = factorial(n) / factorial(n-k)\n",
    "    return permutation"
   ]
  },
  {
   "cell_type": "code",
   "execution_count": 13,
   "metadata": {},
   "outputs": [],
   "source": [
    "# Probability function for drawing samples without replacement\n",
    "def probability_wo_repl(n, k, s=1):\n",
    "    \"\"\" Nested function: Calculates probability for drawing a sample without replacement\n",
    "        Args: \n",
    "        s(int): number of successful outcomes; default = 1\n",
    "        n(int): population size\n",
    "        k(int): sample size\n",
    "        Returns: Probability for drawing a sample of size k from population of size n with s successful outcomes \"\"\"\n",
    "    \n",
    "    \n",
    "    def permutation(n, k):\n",
    "        \"\"\" Calculates number of possible permutations for samples without replacement\n",
    "        Args: \n",
    "        n = total number of items\n",
    "        k = number of items drawn from n \n",
    "        Returns: Number of possible outcomes (permutations) for k items drawn from n items without replacement \"\"\"\n",
    "       \n",
    "        def factorial(n):\n",
    "            \"\"\" calclulate factorial for an integer n\"\"\"\n",
    "            factorial = 1\n",
    "            for i in range(1, n+1, 1):\n",
    "                factorial = (factorial) * (i)\n",
    "            return factorial\n",
    "   \n",
    "        permutation = factorial(n) / factorial(n-k)\n",
    "        return permutation\n",
    "    \n",
    "    probability = s/ permutation(n, k)\n",
    "    return probability"
   ]
  },
  {
   "cell_type": "code",
   "execution_count": 14,
   "metadata": {},
   "outputs": [],
   "source": [
    "# Unique arrangements function\n",
    "def unique_arng(n, k):\n",
    "    \"\"\" Nested function: Determines the number of unique arrangements for a random sample drawn \n",
    "        from a population without replacement.\n",
    "        Same as combinations()\n",
    "    Args: \n",
    "        n(int): size of populations\n",
    "        k(int): size of sample \n",
    "        Returns: \n",
    "        Number of possible unique arrangements for k items drawn from n items without replacement \"\"\"\n",
    "    \n",
    "    def permutation(n, k):\n",
    "        \"\"\" Calculates number of possible permutations for samples without replacement\n",
    "        Args: \n",
    "        n = total number of items\n",
    "        k = number of items drawn from n \n",
    "        Returns: Number of possible outcomes (permutations) for k items drawn from n items without replacement \"\"\"\n",
    "       \n",
    "        def factorial(n):\n",
    "            \"\"\" calclulate factorial for an integer n\"\"\"\n",
    "            factorial = 1\n",
    "            for i in range(1, n+1, 1):\n",
    "                factorial = (factorial) * (i)\n",
    "            return factorial\n",
    "   \n",
    "        permutation = factorial(n) / factorial(n-k)\n",
    "        return permutation\n",
    "    \n",
    "    C = permutation (n,k) / factorial(k)\n",
    "    return C   "
   ]
  },
  {
   "cell_type": "code",
   "execution_count": 15,
   "metadata": {},
   "outputs": [],
   "source": [
    "# Combinations function to determine number of possible combinations\n",
    "def combinations(n, k):\n",
    "    \"\"\" Nested function: Determines the number of unique arrangements (combinations) for a random sample drawn from a population \n",
    "    without replacement.\n",
    "    Same as unique_arng()\n",
    "    Args: \n",
    "        n(int): size of populations\n",
    "        k(int): size of sample \n",
    "        Returns: Number of possible unique arrangements for k items drawn from n items without replacement \n",
    "        \"\"\"\n",
    "    \n",
    "        \n",
    "    def factorial(n):\n",
    "        \"\"\" calclulate factorial for an integer n\"\"\"\n",
    "        factorial = 1\n",
    "        for i in range(1, n+1, 1):\n",
    "            factorial = (factorial) * (i)\n",
    "        return factorial\n",
    "   \n",
    "            \n",
    "    C = factorial (n) / (factorial(k) * factorial(n-k))\n",
    "    return C   "
   ]
  },
  {
   "cell_type": "code",
   "execution_count": 16,
   "metadata": {},
   "outputs": [],
   "source": [
    "# Probability function for calculating probability of drawing combinations\n",
    "def probability_combinations(n, k, s=1):    \n",
    "    \"\"\" Nested function: Determines the probability of combinations (unique arrangements for a random sample \n",
    "        drawn from a population without replacement\n",
    "        Args: \n",
    "        n(int): size of populations\n",
    "        k(int): size of sample \n",
    "        s(int): Number of successful outcomes; default = 1\n",
    "        Returns: \n",
    "        probability unique arrangements for k items drawn from n items without replacement \"\"\"\n",
    "    def unique_arng(n, k):\n",
    "        \"\"\" Determines the number of unique arrangements for a random sample drawn from a population without replacement\n",
    "        Args: \n",
    "        n = size of populations\n",
    "        k = size of sample \n",
    "        Returns: Number of possible unique arrangements for k items drawn from n items without replacement \"\"\"\n",
    "\n",
    "        def permutation(n, k):\n",
    "            \"\"\" Calculates number of possible permutations for samples without replacement\n",
    "            Args: \n",
    "            n = total number of items\n",
    "            k = number of items drawn from n \n",
    "            Returns: Number of possible outcomes (permutations) for k items drawn from n items without replacement \"\"\"\n",
    "\n",
    "            def factorial(n):\n",
    "                \"\"\" calclulate factorial for an integer n\"\"\"\n",
    "                factorial = 1\n",
    "                for i in range(1, n+1, 1):\n",
    "                    factorial = (factorial) * (i)\n",
    "                return factorial\n",
    "\n",
    "            permutation = factorial(n) / factorial(n-k)\n",
    "            return permutation\n",
    "\n",
    "        C = permutation (n,k) / factorial(k)\n",
    "        return C   \n",
    "    \n",
    "    probability = s / unique_arng(n, k)\n",
    "    return probability\n"
   ]
  },
  {
   "cell_type": "markdown",
   "metadata": {},
   "source": [
    "### Loto 6/ 49 Format - Probability of Winning \"Big Prize\" on a Single Ticket\n",
    "\n",
    "We have written the probability functions library above which contains all the possible functions which will be needed for analysis. We will now focus on the format of **Loto 6/ 49** format.\n",
    "\n",
    "As the name suggests, each ticket is printed with 6 numbers drawn without replacement from a population of 49 numbers. On the face of it, it suggests that the odds for winning are fairly high. Below we carry out an analysis on the basis of number of possible combinations and odds of winning on a single ticket.\n",
    "\n",
    "From the library of probability functions, we will use the functions `combinations()` to determine the number of possible combinations, and `probability_combinations()` to determine the probability of winning big prize. The population size n=49 and sample size k=6.\n",
    "\n",
    "After that, we will write a function `one_ticket_probability()` which presents the information in a user friendly way for the proposed app being developed."
   ]
  },
  {
   "cell_type": "code",
   "execution_count": 17,
   "metadata": {
    "scrolled": true
   },
   "outputs": [
    {
     "name": "stdout",
     "output_type": "stream",
     "text": [
      "loto_combinations:  13983816.0 \n",
      " loto_probability:  7.151123842018516e-08\n"
     ]
    }
   ],
   "source": [
    "# Determine number of possible combinations and probability of winning on a single ticket\n",
    "\n",
    "loto_combinations = combinations(n=49, k=6)\n",
    "loto_probability = probability_combinations(n=49, k=6)\n",
    "print('loto_combinations: ', loto_combinations, '\\n', 'loto_probability: ', loto_probability)"
   ]
  },
  {
   "cell_type": "code",
   "execution_count": 18,
   "metadata": {},
   "outputs": [
    {
     "name": "stdout",
     "output_type": "stream",
     "text": [
      " Your probability of winning with 6 numbers combination in Loto 6/49 is approximately 0.000000007 or approximately one in 14 million\n"
     ]
    }
   ],
   "source": [
    "### Write a user friendly function for presentation of information\n",
    "\n",
    "def one_ticket_probability(total_numbers = 6, total_tickets = 1):\n",
    "    \"\"\" Presents probabiity of winning on one ticket from Loto 6/49 in a user-friendly format\n",
    "    Args:\n",
    "    total_numbers(int): total of numbers on the ticket, default = 6\n",
    "    total_tickets(int): total number of tickets\n",
    "    \"\"\"\n",
    "    \n",
    "    return (\" Your probability of winning with 6 numbers combination in Loto 6/49 is approximately 0.00000000{a} or approximately one in {b} million\".format(a = str(loto_probability)[0:1], b = round(loto_combinations/1000000)))\n",
    "print(one_ticket_probability())    "
   ]
  },
  {
   "cell_type": "markdown",
   "metadata": {},
   "source": [
    "### Nested Function for Multiple Tickets\n",
    "\n",
    "Above was just a demonstration of the concept or the prototype. \n",
    "In fact, we need to write a complete nested function for anyone to be able to check their odds of winning in a lottery with any number of tickets and any number of numbers on the ticket.\n",
    "\n",
    "For this, we will modify the functions `combinations()` and `probability_combinations()` functions, and write one nested function which takes as input the lottery format i.e. size of population (n) or total number from which ticket combinations are drawn, size of ticket combinations(k), number of tickets (s, i.e. the number of combinations being checked or number of successful combinations). We will set the default of these parameters to the defaults of Loto 6/49, and if the users want to change it to some other lottery they will just have to pass the required arguments. We will name this function `probability_lottery()`.   "
   ]
  },
  {
   "cell_type": "code",
   "execution_count": 19,
   "metadata": {},
   "outputs": [],
   "source": [
    "# Nested function to calculate probability for any lottery system of Loto 6/49 type and present information to the user\n",
    "\n",
    "def probability_lottery(n = 49, k = 6, s=1):\n",
    "    \"\"\" Nested function:  \n",
    "        For lottery systems determines the probability of winning big_prize on any number of tickets.\n",
    "        Args: \n",
    "        n(int): size of set of numbers from which ticket combinations are drawn; default = 49\n",
    "        k(int): size of number combinations on tickets; default = 6 \n",
    "        s(int): number of tickets; default = 1\n",
    "        Returns: \n",
    "        probability of winning big_prize with s number of tickets\"\"\"\n",
    "\n",
    "    def probability_combinations(n, k, s):    \n",
    "        \"\"\" Nested function: Determines the probability of combinations (unique arrangements for a random sample \n",
    "            drawn from a population without replacement. \n",
    "            Args: \n",
    "            n(int): size of population \n",
    "            k(int): size of sample  \n",
    "            s(int): Number of successful outcomes \n",
    "            Returns: \n",
    "            probability of unique arrangements(combinations) for k items drawn from n items without replacement\n",
    "            \"\"\"\n",
    "    \n",
    "        def unique_arng(n, k):\n",
    "            \"\"\" Determines the number of unique arrangements for a random sample drawn from a population without replacement\n",
    "            Args: \n",
    "            n(int): size of population\n",
    "            k(int): size of sample \n",
    "            Returns: \n",
    "            Number of possible unique arrangements for k items drawn from n items without replacement\n",
    "            \"\"\"\n",
    "\n",
    "            def permutation(n, k):\n",
    "                \"\"\" Calculates number of possible permutations for samples without replacement\n",
    "                Args: \n",
    "                n(int): total number of items\n",
    "                k(int): number of items drawn from n \n",
    "                Returns: Number of possible outcomes (permutations) for k items drawn from n items without replacement \"\"\"\n",
    "\n",
    "                def factorial(n):\n",
    "                    \"\"\" calclulate factorial for an integer n\"\"\"\n",
    "                    factorial = 1\n",
    "                    for i in range(1, n+1, 1):\n",
    "                        factorial = (factorial) * (i)\n",
    "                    return factorial\n",
    "\n",
    "                permutation = factorial(n) / factorial(n-k)\n",
    "                return permutation\n",
    "\n",
    "            C = permutation (n,k) / factorial(k)\n",
    "            return C   \n",
    "    \n",
    "        probability = s / unique_arng(n, k)\n",
    "        return probability\n",
    "    \n",
    "    return (\" Your probability of winning with {} ticket(s) of {} numbers combination in Loto 6/49 is approximately {a:.7f} % or approximately one in {b:.1f} million\"\n",
    "            .format(s, k, a = probability_combinations(n, k, s) *100, b = (1/probability_combinations(n, k, s))/1000000))\n",
    " "
   ]
  },
  {
   "cell_type": "markdown",
   "metadata": {},
   "source": [
    "#### Function Testing\n",
    "We have to test the function for various values including certain and impossible events"
   ]
  },
  {
   "cell_type": "code",
   "execution_count": 20,
   "metadata": {},
   "outputs": [
    {
     "name": "stdout",
     "output_type": "stream",
     "text": [
      " Your probability of winning with 1 ticket(s) of 6 numbers combination in Loto 6/49 is approximately 0.0000072 % or approximately one in 14.0 million\n"
     ]
    }
   ],
   "source": [
    "# Test above function for one ticket\n",
    "print(probability_lottery()) # does not require arguments for default Loto 6/49 lottery and one ticket"
   ]
  },
  {
   "cell_type": "code",
   "execution_count": 21,
   "metadata": {},
   "outputs": [
    {
     "name": "stdout",
     "output_type": "stream",
     "text": [
      " Your probability of winning with 2 ticket(s) of 6 numbers combination in Loto 6/49 is approximately 0.0000143 % or approximately one in 7.0 million\n"
     ]
    }
   ],
   "source": [
    "# Test above function for two tickets for Loto 6/49\n",
    "print(probability_lottery(s=2))"
   ]
  },
  {
   "cell_type": "code",
   "execution_count": 22,
   "metadata": {
    "scrolled": true
   },
   "outputs": [
    {
     "name": "stdout",
     "output_type": "stream",
     "text": [
      " Your probability of winning with 3 ticket(s) of 6 numbers combination in Loto 6/49 is approximately 0.0000215 % or approximately one in 4.7 million\n"
     ]
    }
   ],
   "source": [
    "# Test above function for three tickets for Loto 6/49\n",
    "print(probability_lottery(s=3))"
   ]
  },
  {
   "cell_type": "code",
   "execution_count": 23,
   "metadata": {},
   "outputs": [
    {
     "name": "stdout",
     "output_type": "stream",
     "text": [
      " Your probability of winning with 6991908 ticket(s) of 6 numbers combination in Loto 6/49 is approximately 50.0000000 % or approximately one in 0.0 million\n"
     ]
    }
   ],
   "source": [
    "# Test above function for half the possible tickets for Loto 6/49, check point: 50% probability, should equate to 0.5\n",
    "print(probability_lottery(s=6991908))"
   ]
  },
  {
   "cell_type": "code",
   "execution_count": 24,
   "metadata": {
    "scrolled": true
   },
   "outputs": [
    {
     "name": "stdout",
     "output_type": "stream",
     "text": [
      " Your probability of winning with 13983816 ticket(s) of 6 numbers combination in Loto 6/49 is approximately 100.0000000 % or approximately one in 0.0 million\n"
     ]
    }
   ],
   "source": [
    "# Test above function for all possible tickets for Loto 6/49: check point: 100% probability, should equate to 1\n",
    "print(probability_lottery(s=13983816))"
   ]
  },
  {
   "cell_type": "markdown",
   "metadata": {},
   "source": [
    "### Plotting number of tickets versus probability\n",
    "The function has passed all the tests.\n",
    "Below, the probabilities are plotted against the number of tickets to demonstrate the direct relationship between big prize and the number of tickets.\n",
    "Remember we are analyzing approximately 14 million ticket combinations.\n",
    "The blue horizontal line indicates the chances of someone having 1,000,000 (one million) tickets (not a likely event but only to demonstrate how slim are the chances of winning big prize). "
   ]
  },
  {
   "cell_type": "code",
   "execution_count": 25,
   "metadata": {
    "scrolled": true
   },
   "outputs": [
    {
     "data": {
      "image/png": "[encoded data removed]",
      "text/plain": [
       "<Figure size 864x432 with 1 Axes>"
      ]
     },
     "metadata": {
      "needs_background": "light"
     },
     "output_type": "display_data"
    }
   ],
   "source": [
    "probabilities = []\n",
    "\n",
    "for i in range(1, int(combinations(n=49, k=6))+1):\n",
    "    probability = probability_combinations(n=49, k=6, s=i)\n",
    "    probabilities.append(probability)\n",
    "    \n",
    "fig = plt.figure(figsize=(12, 6))  \n",
    "plt.style.use('fivethirtyeight')\n",
    "\n",
    "plt.plot(probabilities, color = 'red', label = 'P(big prize)')\n",
    "plt.ylim (0, 1)\n",
    "plt.xlabel('number of tickets')\n",
    "plt.ylabel('P(big prize)')\n",
    "plt.axhline(y = probability_combinations(n=49, k=6, s=1000000), color = 'blue', linewidth = 2, label = '1 million tickets')\n",
    "plt.legend()\n",
    "plt.show() "
   ]
  },
  {
   "cell_type": "markdown",
   "metadata": {},
   "source": [
    "### Analysis of Historical Data\n",
    "\n",
    "Lotto 6/49 is one of three national lottery games in Canada. Launched on June 12, 1982, Lotto 6/49 was the first nationwide Canadian lottery game to allow players to choose their own numbers. Previous national games, such as the Olympic Lottery, Loto Canada and Superloto used pre-printed numbers on tickets. Lotto 6/49 led to the gradual phase-out of that type of lottery game in Canada.\n",
    "The dataset consists of the file `649.csv` derived from [kaggle](https://www.kaggle.com/datascienceai/lottery-dataset) and contains historical data from June 1982 onwards till 2018.\n",
    "\n",
    "Our purpose is to enable the users to compare their ticket combinations with past winning combinations in order to enable them to see whether they would ever have won. \n",
    "\n",
    "First, we will explore the dataset in order to understand the data structure."
   ]
  },
  {
   "cell_type": "code",
   "execution_count": 26,
   "metadata": {},
   "outputs": [
    {
     "name": "stdout",
     "output_type": "stream",
     "text": [
      "<class 'pandas.core.frame.DataFrame'>\n",
      "RangeIndex: 3665 entries, 0 to 3664\n",
      "Data columns (total 11 columns):\n",
      " #   Column           Non-Null Count  Dtype \n",
      "---  ------           --------------  ----- \n",
      " 0   PRODUCT          3665 non-null   int64 \n",
      " 1   DRAW NUMBER      3665 non-null   int64 \n",
      " 2   SEQUENCE NUMBER  3665 non-null   int64 \n",
      " 3   DRAW DATE        3665 non-null   object\n",
      " 4   NUMBER DRAWN 1   3665 non-null   int64 \n",
      " 5   NUMBER DRAWN 2   3665 non-null   int64 \n",
      " 6   NUMBER DRAWN 3   3665 non-null   int64 \n",
      " 7   NUMBER DRAWN 4   3665 non-null   int64 \n",
      " 8   NUMBER DRAWN 5   3665 non-null   int64 \n",
      " 9   NUMBER DRAWN 6   3665 non-null   int64 \n",
      " 10  BONUS NUMBER     3665 non-null   int64 \n",
      "dtypes: int64(10), object(1)\n",
      "memory usage: 315.1+ KB\n",
      "None\n"
     ]
    }
   ],
   "source": [
    "# Data exploration\n",
    "loto = pd.read_csv('649.csv')\n",
    "print(loto.info())"
   ]
  },
  {
   "cell_type": "code",
   "execution_count": 27,
   "metadata": {
    "scrolled": true
   },
   "outputs": [
    {
     "name": "stdout",
     "output_type": "stream",
     "text": [
      "   PRODUCT  DRAW NUMBER  SEQUENCE NUMBER  DRAW DATE  NUMBER DRAWN 1  \\\n",
      "0      649            1                0  6/12/1982               3   \n",
      "1      649            2                0  6/19/1982               8   \n",
      "2      649            3                0  6/26/1982               1   \n",
      "3      649            4                0   7/3/1982               3   \n",
      "4      649            5                0  7/10/1982               5   \n",
      "\n",
      "   NUMBER DRAWN 2  NUMBER DRAWN 3  NUMBER DRAWN 4  NUMBER DRAWN 5  \\\n",
      "0              11              12              14              41   \n",
      "1              33              36              37              39   \n",
      "2               6              23              24              27   \n",
      "3               9              10              13              20   \n",
      "4              14              21              31              34   \n",
      "\n",
      "   NUMBER DRAWN 6  BONUS NUMBER  \n",
      "0              43            13  \n",
      "1              41             9  \n",
      "2              39            34  \n",
      "3              43            34  \n",
      "4              47            45  \n"
     ]
    }
   ],
   "source": [
    "print(loto.head())"
   ]
  },
  {
   "cell_type": "code",
   "execution_count": 28,
   "metadata": {
    "scrolled": false
   },
   "outputs": [
    {
     "name": "stdout",
     "output_type": "stream",
     "text": [
      "      PRODUCT  DRAW NUMBER  SEQUENCE NUMBER  DRAW DATE  NUMBER DRAWN 1  \\\n",
      "3660      649         3587                0   6/6/2018              10   \n",
      "3661      649         3588                0   6/9/2018              19   \n",
      "3662      649         3589                0  6/13/2018               6   \n",
      "3663      649         3590                0  6/16/2018               2   \n",
      "3664      649         3591                0  6/20/2018              14   \n",
      "\n",
      "      NUMBER DRAWN 2  NUMBER DRAWN 3  NUMBER DRAWN 4  NUMBER DRAWN 5  \\\n",
      "3660              15              23              38              40   \n",
      "3661              25              31              36              46   \n",
      "3662              22              24              31              32   \n",
      "3663              15              21              31              38   \n",
      "3664              24              31              35              37   \n",
      "\n",
      "      NUMBER DRAWN 6  BONUS NUMBER  \n",
      "3660              41            35  \n",
      "3661              47            26  \n",
      "3662              34            16  \n",
      "3663              49             8  \n",
      "3664              48            17  \n"
     ]
    }
   ],
   "source": [
    "print(loto.tail())"
   ]
  },
  {
   "cell_type": "markdown",
   "metadata": {},
   "source": [
    "### Comparative Analysis with User Combinations\n",
    "For our purposes of comparative analysis, the columns of interest are the ones indicating the numbers drawn from 1 to 6 to form the winning 6 number combination, as shown below. "
   ]
  },
  {
   "cell_type": "code",
   "execution_count": 29,
   "metadata": {},
   "outputs": [
    {
     "name": "stdout",
     "output_type": "stream",
     "text": [
      "NUMBER DRAWN 1     8\n",
      "NUMBER DRAWN 2    33\n",
      "NUMBER DRAWN 3    36\n",
      "NUMBER DRAWN 4    37\n",
      "NUMBER DRAWN 5    39\n",
      "NUMBER DRAWN 6    41\n",
      "Name: 1, dtype: object\n"
     ]
    }
   ],
   "source": [
    "print(loto.iloc[1,4:10])"
   ]
  },
  {
   "cell_type": "markdown",
   "metadata": {},
   "source": [
    "In order to compare these combinations, we will extract them from the dataset, store them as python sets in a Pandas dataframe series.\n",
    "\n",
    "We will write a function to extract the combinations, convert them into `sets` and store all combinations as a Pandas series object."
   ]
  },
  {
   "cell_type": "code",
   "execution_count": 30,
   "metadata": {},
   "outputs": [],
   "source": [
    "# Function to extract winnning numbers\n",
    "def extract_combination(row):\n",
    "    \"\"\" Function to extract winning lottery numbers from historical data\n",
    "    Arg:\n",
    "    row: dataset row identified by its index\n",
    "    Returns:\n",
    "    Set of winning combination numbers in a dataset row\n",
    "    \"\"\"\n",
    "    \n",
    "    for i in range(1, len(row)+1):\n",
    "        combination = set(row[4:10])\n",
    "    return combination    "
   ]
  },
  {
   "cell_type": "code",
   "execution_count": 31,
   "metadata": {
    "scrolled": true
   },
   "outputs": [
    {
     "name": "stdout",
     "output_type": "stream",
     "text": [
      "0    {3, 41, 11, 12, 43, 14}\n",
      "1    {33, 36, 37, 39, 8, 41}\n",
      "2     {1, 6, 39, 23, 24, 27}\n",
      "3     {3, 9, 10, 43, 13, 20}\n",
      "4    {34, 5, 14, 47, 21, 31}\n",
      "Name: winning_combination, dtype: object\n"
     ]
    }
   ],
   "source": [
    "# Apply the function and save the winning combinations as a Pandas series object\n",
    "loto['winning_combination']= loto.apply(extract_combination, axis = 1)\n",
    "\n",
    "winning_combination = pd.Series(loto.winning_combination)\n",
    "print(winning_combination.head())"
   ]
  },
  {
   "cell_type": "markdown",
   "metadata": {},
   "source": [
    "We will now compare the user input combinations with the historical data of winning combinations available in the series `winning_combinations`. \n",
    "We will write a function to accomplish this task."
   ]
  },
  {
   "cell_type": "code",
   "execution_count": 32,
   "metadata": {},
   "outputs": [],
   "source": [
    "# Function to compare user combinations with historic data of winning combinations\n",
    "\n",
    "def check_historical_occurrence(input, series):\n",
    "    \"\"\" Compares input combinations by users with historical winning combinations of national lottery\n",
    "    Args:\n",
    "    input(list): user input combination\n",
    "    series(pd.Series): historical winning combinations\n",
    "    Returns:\n",
    "    bool: True if a match\n",
    "    \"\"\"\n",
    "    user_combination = set(input)\n",
    "    historical_occurrence = []\n",
    "    for combination in series:\n",
    "        if combination == user_combination:\n",
    "            comparison = True\n",
    "            historical_occurrence.append(comparison)\n",
    "            \n",
    "        else:\n",
    "            continue  \n",
    "    return historical_occurrence        \n",
    "    "
   ]
  },
  {
   "cell_type": "markdown",
   "metadata": {},
   "source": [
    "**Function Testing**\n",
    "\n",
    "Test the function with known historical occurrences"
   ]
  },
  {
   "cell_type": "code",
   "execution_count": 33,
   "metadata": {
    "scrolled": true
   },
   "outputs": [
    {
     "data": {
      "text/plain": [
       "[True]"
      ]
     },
     "execution_count": 33,
     "metadata": {},
     "output_type": "execute_result"
    }
   ],
   "source": [
    "# Test 1: known historical occurrence; return: True\n",
    "user_input = [3, 41, 11, 12, 43, 14]\n",
    "check_historical_occurrence(input = user_input, series = winning_combination)"
   ]
  },
  {
   "cell_type": "code",
   "execution_count": 34,
   "metadata": {},
   "outputs": [
    {
     "data": {
      "text/plain": [
       "[True]"
      ]
     },
     "execution_count": 34,
     "metadata": {},
     "output_type": "execute_result"
    }
   ],
   "source": [
    "# Test 2: known historical occurrence; return: True\n",
    "user_input = [3, 9, 10, 43, 13, 20]\n",
    "check_historical_occurrence(input = user_input, series = winning_combination)"
   ]
  },
  {
   "cell_type": "code",
   "execution_count": 35,
   "metadata": {},
   "outputs": [
    {
     "data": {
      "text/plain": [
       "[True]"
      ]
     },
     "execution_count": 35,
     "metadata": {},
     "output_type": "execute_result"
    }
   ],
   "source": [
    "# Test 3: known historical occurrence; return: True\n",
    "user_input = [34, 5, 14, 47, 21, 31]\n",
    "check_historical_occurrence(input = user_input, series = winning_combination)"
   ]
  },
  {
   "cell_type": "code",
   "execution_count": 36,
   "metadata": {
    "scrolled": true
   },
   "outputs": [
    {
     "data": {
      "text/plain": [
       "[]"
      ]
     },
     "execution_count": 36,
     "metadata": {},
     "output_type": "execute_result"
    }
   ],
   "source": [
    "# Test 4: random combination; return: None\n",
    "user_input = [12, 2, 7, 49, 18, 22]\n",
    "check_historical_occurrence(input = user_input, series = winning_combination)"
   ]
  },
  {
   "cell_type": "markdown",
   "metadata": {},
   "source": [
    "The function has passed all the tests."
   ]
  },
  {
   "cell_type": "markdown",
   "metadata": {},
   "source": [
    "### Less than Six Winning Numbers\n",
    "\n",
    "In most 6/49 type lotteries there are smaller prizes if a player's ticket match two, three, four, or five of the six numbers drawn. As a consequence, the users might be interested in knowing the probability of having two, three, four, or five winning numbers.\n",
    "\n",
    "We have to distinguish between **exactly** 2, 3, 4 and 5 winning numbers (implying that remaining numbers are certainly not winning numbers) and **at least** 2, 3. 4 and 5 winning number (implying that remaining numbers may be winning numbers as well) while calculating probabilities.\n",
    "\n",
    "The number of successful outcomes in this case is first calculated by finding the possible combinations for 2, 3, 4 and 5 numbers on a six numbered ticket. And for each possible combination determining that in how many possible combinations it can combine with remaining numbers (which are certainly not winning numbers).\n",
    "\n",
    "For instance:\n",
    "Possible five number combinations for a given six number combination can be determined by using the `combinations()` function from our probability function library:"
   ]
  },
  {
   "cell_type": "code",
   "execution_count": 37,
   "metadata": {
    "scrolled": true
   },
   "outputs": [
    {
     "name": "stdout",
     "output_type": "stream",
     "text": [
      "6.0\n"
     ]
    }
   ],
   "source": [
    "print(combinations(n=6, k=5))"
   ]
  },
  {
   "cell_type": "markdown",
   "metadata": {},
   "source": [
    "As seen above, there are 6 possible 5 number combinations on a given ticket.\n",
    "Each of these 6 combinations can combine with the 6th number on the ticket in 49-5= 44 ways, implying that 44 unique arrangements or combinations are possible for any 5 number combination on a given ticket.\n",
    "One of these 44 combinations has to be discarded, as it would imply that the 6th number is a winning number. So, we have 43 possible successful outcomes for one combination on a given 6 number ticket. For 6 combinations, it would be 6x43 = 258, and so on.\n",
    "\n",
    "Below, we will write a custom function to perform these calculations for Loto 6/49 tickets only and provide information to the user in a user-friendly manner. We will use `combinations()` and `probability_combinations()` function from our probability functions library inside this in order to determine probability in each case. "
   ]
  },
  {
   "cell_type": "code",
   "execution_count": 38,
   "metadata": {},
   "outputs": [],
   "source": [
    "def probability_less_6(n_winning):\n",
    "    \"\"\" Nested function:  \n",
    "        For lottery systems determines the probability of winning minor prize on any combination of numbers on tickets \n",
    "        which is less than the winning combination.\n",
    "        Args: \n",
    "        n_winning(int): number of winning numbers(for example 2, 3, 4 or 5 on a 6 numbered ticket)\n",
    "        n(int): size of set of numbers from which ticket combinations are drawn; default = 49\n",
    "        k(int): size of number combinations on tickets; default = 6 \n",
    "        s(int): number of tickets; default = 1\n",
    "        Returns: \n",
    "        probability of winning big_prize with s number of tickets\"\"\"\n",
    "    \n",
    "    winning_combinations = combinations(6, n_winning) # possible combinations for number of winning numbers\n",
    "    k_combinations = combinations(49, 6) # total number of possible combinations for sample of size k\n",
    "        \n",
    "    # successful outcomes for given n_winning    \n",
    "    successful_outcomes = winning_combinations * combinations(43, 6-n_winning) \n",
    "    # 43 is the sample space left after drawing 6 numbers\n",
    "    # Or in other words, empty spaces on the ticket can be filled from 43 numbers \n",
    "    # i.e. 49 numbers - number of winning numbers on ticket - remaining numbers certain to be winning numbers\n",
    "    \n",
    "    probability = successful_outcomes / k_combinations\n",
    "    \n",
    "    \n",
    "        \n",
    "    print (\"Your probability of winning with a combination of {} numbers in Loto 6/49 is approximately {a:.5f} % or approximately one in {b: .0f}\"\n",
    "           .format(n_winning, a = probability*100, b = (1/probability)))\n",
    " "
   ]
  },
  {
   "cell_type": "code",
   "execution_count": 39,
   "metadata": {
    "scrolled": false
   },
   "outputs": [
    {
     "name": "stdout",
     "output_type": "stream",
     "text": [
      "Your probability of winning with a combination of 2 numbers in Loto 6/49 is approximately 13.23780 % or approximately one in  8\n",
      "None\n",
      "Your probability of winning with a combination of 3 numbers in Loto 6/49 is approximately 1.76504 % or approximately one in  57\n",
      "None\n",
      "Your probability of winning with a combination of 4 numbers in Loto 6/49 is approximately 0.09686 % or approximately one in  1032\n",
      "None\n",
      "Your probability of winning with a combination of 5 numbers in Loto 6/49 is approximately 0.00184 % or approximately one in  54201\n",
      "None\n"
     ]
    }
   ],
   "source": [
    "# Test function for all values of n_winning\n",
    "for n_winning in [2,3,4,5]:\n",
    "    print(probability_less_6(n_winning))"
   ]
  },
  {
   "cell_type": "markdown",
   "metadata": {},
   "source": [
    "### Results and Conclusion\n",
    "\n",
    "- We have seen that the overall probability of winning big prize on a single is extremely low i.e. approximately one in 14 million though only a 6 number combination from a population of 49 numbers is used which creates an impression for the lottery addicts that they stand a good chance of winning. Our approach amply debunks this myth.\n",
    "- The historical analysis also supports the idea that the chances of winning the big prize are fairly low.\n",
    "- In the visual representation, we have emphasized that the chances of winning big prize with even one million tickets are fairly low\n",
    "- The overall theme of the app is that the addicts should not spend unnecessary amounts of money for buying unrealistic number of tickts because, it will not imporive thier chances in a population of 14 million combinations.\n",
    "- It has also been shown that with smaller number combinations, their chances of winning small prizes increase fairly well even on a single ticket. So, they should not spend huge amounts on buying a large number of tickets."
   ]
  }
 ],
 "metadata": {
  "kernelspec": {
   "display_name": "Python 3",
   "language": "python",
   "name": "python3"
  },
  "language_info": {
   "codemirror_mode": {
    "name": "ipython",
    "version": 3
   },
   "file_extension": ".py",
   "mimetype": "text/x-python",
   "name": "python",
   "nbconvert_exporter": "python",
   "pygments_lexer": "ipython3",
   "version": "3.8.3"
  }
 },
 "nbformat": 4,
 "nbformat_minor": 4
}

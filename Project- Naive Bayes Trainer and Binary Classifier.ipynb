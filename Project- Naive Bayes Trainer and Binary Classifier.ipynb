{
 "cells": [
  {
   "cell_type": "markdown",
   "metadata": {},
   "source": [
    "# Project -  Building a Trainer and a Binary Classifier based on Naive Bayes Algorithm \n",
    "\n",
    "**Background**: \n",
    "\n",
    "[Bayes Theorem](https://blogs.scientificamerican.com/cross-check/bayes-s-theorem-what-s-the-big-deal/) is a method for calculating the validity of beliefs (hypotheses, claims, propositions) based on the best available evidence (observations, data, information), and in its simplest explanation is that an initial belief applied with new evidence leads to an improvement in the initial belief. \n",
    "\n",
    "More specifically: \"The probability that a belief is true given new evidence equals the probability that the belief is true regardless of that evidence times the probability that the evidence is true given that the belief is true divided by the probability that the evidence is true regardless of whether the belief is true\". \n",
    "\n",
    "Mathematically, we can express this relationship as:\n",
    "P(B|E) = P(B) X P(E|B) / P(E), \n",
    "with P standing for probability, B for belief and E for evidence. P(B) is the probability that B is true, and P(E) is the probability that E is true. P(B|E) means the probability of B if E is true, and P(E|B) is the probability of E if B is true.\n",
    "\n",
    "**Naive Bayes algorithm** is a simple multinomial application of Bayes Theorem based on the idea that if the probability of a belief when applied with evidence is greater than the probability of the non-belief when applied with same evidence then the belief is \"more true\" than the \"non-belief\" or vice versa.\n",
    "\n",
    "Mathematically,\n",
    "$$\\begin{equation}\n",
    "P(B | e1,e2,...,e𝑛) \\propto P(Spam) \\cdot \\prod_{i=1}^{n}P(e_i|B)\n",
    "\\end{equation}$$\n",
    "\n",
    "and \n",
    "\n",
    "$$\\begin{equation}\n",
    "P(B^C | e_1,e_2, ..., e_n) \\propto P(B^C) \\cdot \\prod_{i=1}^{n}P(e_i|B^C)\n",
    "\\end{equation}$$\n",
    "\n",
    "where:\n",
    "\n",
    "B is belief and e_1, e_2, ....e_n are all the evidences applied to the belief.\n",
    "\n",
    "### **Aim and Goals of the Project**:\n",
    "\n",
    "\n",
    "- In this project, we will develop a `trainer function` to train a model with any training dataset, based on a multinomial version of **Naive Bayes** algorithm conditioned with additive smoothing. Trained model will be used for providing input to a **binary classifier**\n",
    "- We will then **`unit test`** the `trainer function` to verify the accuracy of the complex calculations and code performed inside the `trainer function`.\n",
    "- We will also develop a `binary classifier` or a `filter function` to distinguish between `positive` and `negative` based on trained model input (in this case spam and non-spam messages sent via SMS).\n",
    "- Both the **trainer** and **classifier** will be general enough to be applied to a variety of problems requiring binary classification using any number of training datasets. \n",
    "- We will also develop a third function aimed at determining the accuracy of the `algorithm` against a pre-classified `test dataset`\n",
    "-  A human classified and labeled dataset, consisting of 5572 SMS messages will be used for calculation of `prior` probabilities (beliefs and evidences, as explained above) using the `SMS` training dataset. The binary classifier will then calculate the `posterior` probabilities for any new messages to be classified as `spam` or `non-spam`.\n",
    "- Since any dataset of the format `['Label', 'Information']` can be used by the algorithm for training, We have also provided a **A Guide for Data Cleaning and Formatting** for use with the algorithm at **Appendix-I** \n",
    "- Since a number of core probability functions are frequently required for basic calculations, We have developed a series of core `conditional probability` functions for use in any conditional probability problems These are enclosed as **Appendix-II** to this project. \n"
   ]
  },
  {
   "cell_type": "markdown",
   "metadata": {},
   "source": [
    "### Conditional Probability Core Functions\n",
    "A number of functions involving repeated probability calculations will be required. In order to facilitate calculations, we will write a set of core functions or a library of core conditional probability functions.\n",
    "\n",
    "**These functions are given at Appendix-II**"
   ]
  },
  {
   "cell_type": "code",
   "execution_count": 1,
   "metadata": {},
   "outputs": [],
   "source": [
    "# Import all required libraries\n",
    "import pandas as pd\n",
    "import numpy as np\n",
    "import matplotlib.pyplot as plt\n",
    "import seaborn as sns\n",
    "%matplotlib inline\n",
    "# Setting pandas display options for large data\n",
    "pd.options.display.max_rows = 200\n",
    "pd.options.display.max_columns = 150"
   ]
  },
  {
   "cell_type": "code",
   "execution_count": 2,
   "metadata": {},
   "outputs": [
    {
     "name": "stdout",
     "output_type": "stream",
     "text": [
      "<class 'pandas.core.frame.DataFrame'>\n",
      "RangeIndex: 5572 entries, 0 to 5571\n",
      "Data columns (total 2 columns):\n",
      " #   Column  Non-Null Count  Dtype \n",
      "---  ------  --------------  ----- \n",
      " 0   Label   5572 non-null   object\n",
      " 1   SMS     5572 non-null   object\n",
      "dtypes: object(2)\n",
      "memory usage: 87.2+ KB\n"
     ]
    }
   ],
   "source": [
    "# Preliminary Data Exploration\n",
    "sms = pd.read_csv('SMSSpamCollection', sep = '\\t', header = None, names = ['Label', 'SMS'])\n",
    "sms.info()"
   ]
  },
  {
   "cell_type": "code",
   "execution_count": 3,
   "metadata": {},
   "outputs": [
    {
     "data": {
      "text/html": [
       "<div>\n",
       "<style scoped>\n",
       "    .dataframe tbody tr th:only-of-type {\n",
       "        vertical-align: middle;\n",
       "    }\n",
       "\n",
       "    .dataframe tbody tr th {\n",
       "        vertical-align: top;\n",
       "    }\n",
       "\n",
       "    .dataframe thead th {\n",
       "        text-align: right;\n",
       "    }\n",
       "</style>\n",
       "<table border=\"1\" class=\"dataframe\">\n",
       "  <thead>\n",
       "    <tr style=\"text-align: right;\">\n",
       "      <th></th>\n",
       "      <th>Label</th>\n",
       "      <th>SMS</th>\n",
       "    </tr>\n",
       "  </thead>\n",
       "  <tbody>\n",
       "    <tr>\n",
       "      <th>0</th>\n",
       "      <td>ham</td>\n",
       "      <td>Go until jurong point, crazy.. Available only ...</td>\n",
       "    </tr>\n",
       "    <tr>\n",
       "      <th>1</th>\n",
       "      <td>ham</td>\n",
       "      <td>Ok lar... Joking wif u oni...</td>\n",
       "    </tr>\n",
       "    <tr>\n",
       "      <th>2</th>\n",
       "      <td>spam</td>\n",
       "      <td>Free entry in 2 a wkly comp to win FA Cup fina...</td>\n",
       "    </tr>\n",
       "    <tr>\n",
       "      <th>3</th>\n",
       "      <td>ham</td>\n",
       "      <td>U dun say so early hor... U c already then say...</td>\n",
       "    </tr>\n",
       "    <tr>\n",
       "      <th>4</th>\n",
       "      <td>ham</td>\n",
       "      <td>Nah I don't think he goes to usf, he lives aro...</td>\n",
       "    </tr>\n",
       "  </tbody>\n",
       "</table>\n",
       "</div>"
      ],
      "text/plain": [
       "  Label                                                SMS\n",
       "0   ham  Go until jurong point, crazy.. Available only ...\n",
       "1   ham                      Ok lar... Joking wif u oni...\n",
       "2  spam  Free entry in 2 a wkly comp to win FA Cup fina...\n",
       "3   ham  U dun say so early hor... U c already then say...\n",
       "4   ham  Nah I don't think he goes to usf, he lives aro..."
      ]
     },
     "execution_count": 3,
     "metadata": {},
     "output_type": "execute_result"
    }
   ],
   "source": [
    "sms.head()"
   ]
  },
  {
   "cell_type": "code",
   "execution_count": 4,
   "metadata": {
    "scrolled": false
   },
   "outputs": [
    {
     "name": "stdout",
     "output_type": "stream",
     "text": [
      "ham     0.865937\n",
      "spam    0.134063\n",
      "Name: Label, dtype: float64\n"
     ]
    },
    {
     "data": {
      "image/png": "[encoded data removed]",
      "text/plain": [
       "<Figure size 432x432 with 1 Axes>"
      ]
     },
     "metadata": {
      "needs_background": "light"
     },
     "output_type": "display_data"
    }
   ],
   "source": [
    "print(sms['Label'].value_counts(normalize = True))\n",
    "\n",
    "fig = plt.figure(figsize=(6, 6))  \n",
    "plt.style.use('fivethirtyeight')\n",
    "sms['Label'].value_counts(normalize = True).plot.bar(color = ['blue','red'], rot = 0)\n",
    "plt.show()"
   ]
  },
  {
   "cell_type": "markdown",
   "metadata": {},
   "source": [
    "### Data Training and Testing\n",
    "Our data set is approximately made up of 87% 'ham(non-spam)' and 13& 'spam' messages.\n",
    "We will split the above dataset into two categories by randomizing the entire dataset to ensure that spam and ham (non-spam) messages are spread proportionately throughout the dataset.:\n",
    "**Training Set** for training the model on how to classify messages. 80% of the dataset or 4458 messages will be used for training.\n",
    "**Test Set** for testing the spam filter performance. Remaining 20% i.e. 1114 messages will be used for testing. Spam filter must classify new messages with an accuracy greater than 80% as spam or ham (non-spam).\n",
    "\n"
   ]
  },
  {
   "cell_type": "code",
   "execution_count": 5,
   "metadata": {},
   "outputs": [
    {
     "name": "stdout",
     "output_type": "stream",
     "text": [
      "<class 'pandas.core.frame.DataFrame'>\n",
      "RangeIndex: 4458 entries, 0 to 4457\n",
      "Data columns (total 2 columns):\n",
      " #   Column  Non-Null Count  Dtype \n",
      "---  ------  --------------  ----- \n",
      " 0   Label   4458 non-null   object\n",
      " 1   SMS     4458 non-null   object\n",
      "dtypes: object(2)\n",
      "memory usage: 69.8+ KB\n",
      "None\n",
      "<class 'pandas.core.frame.DataFrame'>\n",
      "RangeIndex: 1114 entries, 0 to 1113\n",
      "Data columns (total 2 columns):\n",
      " #   Column  Non-Null Count  Dtype \n",
      "---  ------  --------------  ----- \n",
      " 0   Label   1114 non-null   object\n",
      " 1   SMS     1114 non-null   object\n",
      "dtypes: object(2)\n",
      "memory usage: 17.5+ KB\n",
      "None\n"
     ]
    }
   ],
   "source": [
    "# Randomize and split dataset into training and test sets\n",
    "sms = sms.sample(frac = 1, random_state = 1)\n",
    "sms_training = sms.head(int(0.8*sms.Label.size)+1).reset_index(drop = True) # To round of the next higher integer\n",
    "sms_test = sms.tail(int(0.2*sms.Label.size)).reset_index(drop = True)\n",
    "print(sms_training.info())\n",
    "print(sms_test.info())"
   ]
  },
  {
   "cell_type": "code",
   "execution_count": 6,
   "metadata": {
    "scrolled": true
   },
   "outputs": [
    {
     "name": "stdout",
     "output_type": "stream",
     "text": [
      "Training:  \n",
      " ham     0.86541\n",
      "spam    0.13459\n",
      "Name: Label, dtype: float64\n"
     ]
    },
    {
     "data": {
      "image/png": "[encoded data removed]",
      "text/plain": [
       "<Figure size 432x432 with 1 Axes>"
      ]
     },
     "metadata": {},
     "output_type": "display_data"
    }
   ],
   "source": [
    "# Check proportion of ham and spam in training dataset\n",
    "print(\"Training: \", '\\n', sms_training['Label'].value_counts(normalize = True))\n",
    "\n",
    "fig = plt.figure(figsize=(6, 6))  \n",
    "plt.style.use('fivethirtyeight')\n",
    "sms_training['Label'].value_counts(normalize = True).plot.bar(color = ['blue','red'], rot = 0)\n",
    "plt.title(\"Training Dataset\")\n",
    "plt.show()"
   ]
  },
  {
   "cell_type": "code",
   "execution_count": 7,
   "metadata": {},
   "outputs": [
    {
     "name": "stdout",
     "output_type": "stream",
     "text": [
      "Test:  \n",
      " ham     0.868043\n",
      "spam    0.131957\n",
      "Name: Label, dtype: float64\n"
     ]
    },
    {
     "data": {
      "image/png": "[encoded data removed]",
      "text/plain": [
       "<Figure size 432x432 with 1 Axes>"
      ]
     },
     "metadata": {},
     "output_type": "display_data"
    }
   ],
   "source": [
    "# Check proportion of ham and spam in test dataset\n",
    "print(\"Test: \", '\\n', sms_test['Label'].value_counts(normalize = True))\n",
    "fig = plt.figure(figsize=(6, 6))  \n",
    "plt.style.use('fivethirtyeight')\n",
    "sms_test['Label'].value_counts(normalize = True).plot.bar(color = ['blue','red'], rot = 0)\n",
    "plt.title(\"Test Dataset\")\n",
    "plt.show()"
   ]
  },
  {
   "attachments": {
    "image.png": {
     "image/png": "[encoded data removed]"
    }
   },
   "cell_type": "markdown",
   "metadata": {},
   "source": [
    "### Organizing Datasets\n",
    "\n",
    "We have to organize datasets in a format in which it is possible to count probabilities of particular words occurring in a message P(w/spam) and p(w/ham), such as:\n",
    "![image.png](attachment:image.png)\n",
    "\n",
    "**This function is automatically performed by the nbayes_trainer function written below**.\n",
    "**Details are given in the Appendix_I**"
   ]
  },
  {
   "cell_type": "code",
   "execution_count": 8,
   "metadata": {
    "scrolled": true
   },
   "outputs": [
    {
     "name": "stdout",
     "output_type": "stream",
     "text": [
      "<class 'pandas.core.frame.DataFrame'>\n",
      "RangeIndex: 4458 entries, 0 to 4457\n",
      "Data columns (total 2 columns):\n",
      " #   Column  Non-Null Count  Dtype \n",
      "---  ------  --------------  ----- \n",
      " 0   Label   4458 non-null   object\n",
      " 1   SMS     4458 non-null   object\n",
      "dtypes: object(2)\n",
      "memory usage: 69.8+ KB\n",
      "  Label                                                SMS\n",
      "0   ham                       Yep, by the pretty sculpture\n",
      "1   ham      Yes, princess. Are you going to make me moan?\n",
      "2   ham                         Welp apparently he retired\n",
      "3   ham                                            Havent.\n",
      "4   ham  I forgot 2 ask ü all smth.. There's a card on ...\n"
     ]
    }
   ],
   "source": [
    "sms_training.info()\n",
    "print(sms_training.head())"
   ]
  },
  {
   "cell_type": "markdown",
   "metadata": {},
   "source": [
    "**Vocabulary List and Concatenation**\n",
    "\n",
    "We will need a vocabulary list in order to calculate probabilities and apply the smoothing function to the Naive-Bayes. We will also need to combine the formatted training dataset with the original dataset. \n",
    "\n",
    "**This function is automatically performed by the nbayes_trainer function written below**.\n",
    "**Details are given in the Appendix_I**"
   ]
  },
  {
   "cell_type": "markdown",
   "metadata": {},
   "source": [
    "### Application of Naive Bayes Algorithm\n",
    "\n",
    "We have to incorporate the equations for distinguishing spam and ham messages in our naive_bayes function in the conditional probability function library:\n",
    "$$\\begin{equation}\n",
    "P(Spam | w_1,w_2, ..., w_n) \\propto P(Spam) \\cdot \\prod_{i=1}^{n}P(w_i|Spam) \\\\\n",
    "P(Ham | w_1,w_2, ..., w_n) \\propto P(Ham) \\cdot \\prod_{i=1}^{n}P(w_i|Ham)\n",
    "\\end{equation}$$\n",
    "\n",
    "As well as the additive (Laplace) smoothing function given by following equations:\n",
    "$$\\begin{equation}\n",
    "P(w_i|Spam) = \\frac{N_{w_i|Spam} + \\alpha}{N_{Spam} + \\alpha \\cdot N_{Vocabulary}} \\\\\n",
    "P(w_i|Ham) = \\frac{N_{w_i|Ham} + \\alpha}{N_{Ham} + \\alpha \\cdot N_{Vocabulary}}\n",
    "\\end{equation}$$\n",
    "\n",
    "Where:\n",
    "\n",
    "- NSpam is equal to the number of words in all the spam messages — it's not equal to the number of spam messages, and it's not equal to the total number of unique words in spam messages.\n",
    "- NHam is equal to the number of words in all the non-spam messages — it's not equal to the number of non-spam messages, and it's not equal to the total number of unique words in non-spam messages.\n",
    "We'll also use Laplace smoothing and set α=1. "
   ]
  },
  {
   "cell_type": "markdown",
   "metadata": {},
   "source": [
    "### Naive Bayes Training Algorithm\n",
    "We will create two algorithms:\n",
    "- Naive Bayes Training Algorithm - To train on any data set in a minimal format (with only two columns \"Label\" and \"SMS\" or `positive` and `negative`).\n",
    "- Naive Bayes Binary Classifier  - To classify information as `positive` or `negative` or in this case any message as `spam` or `non-spam` based on the input of the training algorithm."
   ]
  },
  {
   "cell_type": "code",
   "execution_count": 9,
   "metadata": {},
   "outputs": [],
   "source": [
    "# Naive Bayes training algorithm for spam filter \n",
    "def nbayes_trainer(training_dataset = sms_training):\n",
    "    \"\"\" Trains the model on a pre-classified training dataset to provide inputs for classifying information (SMS messages)\n",
    "    as positive (ham) or negative(non-spam) \n",
    "    Args:\n",
    "    training_dataset(pandas dataframe): Classified Dataframe for training the algorithm in the format [\"Label\", \"info\"]\n",
    "    Returns:\n",
    "    list: p_neg (or p_spam), p_pos(or p_ham), p_a_given_neg (or p_wi_given_spam), p_a_given_pos (or p_wi_given_ham)\n",
    "    \"\"\"\n",
    "   # Remove punctuation from messages and convert to lower case\n",
    "    training_dataset['SMS'] = training_dataset['SMS'].str.replace('\\W', ' ')\n",
    "    training_dataset['SMS'] = training_dataset['SMS'].str.lower()\n",
    "    \n",
    "    # Create vocabulary\n",
    "    vocab = []\n",
    "    training_dataset['SMS'] = training_dataset['SMS'].str.split() # split along blank space\n",
    "    for list in training_dataset.SMS:\n",
    "        for i in range(0, len(list)):\n",
    "            word = list[i]\n",
    "            vocab.append(word)\n",
    "    vocab = set(vocab) # Convert to set to remove duplicates\n",
    "    vocabulary = []\n",
    "    for item in vocab:\n",
    "        vocabulary.append(item) # Transforming back to list to facilitate list operations\n",
    "        \n",
    "     # Transform vocabulary into dictionary of unique word key-value pairs\n",
    "    sms_word_count = {}\n",
    "    for word in vocabulary:\n",
    "        sms_word_count[word] = [0] * len(training_dataset.SMS) # Initialize the dictionary values to zero for each unique word in each sms\n",
    "\n",
    "    # Iterate over SMS column in training data set to populate dictionary getting both index and sms\n",
    "    for index, sms in enumerate(training_dataset.SMS):\n",
    "        for word in sms:\n",
    "            sms_word_count[word][index] += 1\n",
    "        \n",
    "    # Convert to dataframe\n",
    "    sms_word_count = pd.DataFrame(sms_word_count)\n",
    "\n",
    "    # Concatenate with training dataset to have labels and SMS\n",
    "    training_dataset_clean = pd.concat([training_dataset, sms_word_count], axis = 1)\n",
    "       \n",
    "    # Perform probability calculations    \n",
    "        \n",
    "    alpha = 1\n",
    "    N_vocab = len(vocabulary)   \n",
    "        \n",
    "   # Calculate N_spam and N_ham\n",
    "    training_dataset_clean['N_row'] = training_dataset_clean.iloc[:, 2:].apply(sum, axis = 1)     \n",
    "    N_spam = training_dataset_clean[training_dataset_clean[\"Label\"]=='spam']['N_row'].sum()\n",
    "    N_ham = training_dataset_clean[training_dataset_clean[\"Label\"]=='ham']['N_row'].sum()\n",
    "   \n",
    "    # Calculate P(wi/spam) and P(wi|ham)\n",
    "    for col in training_dataset_clean.columns[2:-1]: # To exclude N_rown column\n",
    "        p_wi_given_spam = {} # Probability values for all words\n",
    "        p_wi_given_ham = {} # Probability values for all words\n",
    "        \n",
    "    training_dataset_spam = training_dataset_clean.groupby(\"Label\").get_group('spam')\n",
    "    training_dataset_ham = training_dataset_clean.groupby(\"Label\").get_group('ham')\n",
    "    \n",
    "    for col in training_dataset_spam.columns[2:-1]: # To exclude N_rows column\n",
    "        N_wi_spam = training_dataset_spam[col].sum()\n",
    "        p_wi_spam = (N_wi_spam + alpha)/ (N_spam + (N_vocab * alpha)) # P(wi|spam)\n",
    "        p_wi_given_spam[col] = p_wi_spam # For all words\n",
    "          \n",
    "    for col in training_dataset_ham.columns[2:-1]:   \n",
    "        N_wi_ham = training_dataset_ham[col].sum() \n",
    "        p_wi_ham = (N_wi_ham + alpha)/ (N_ham + (N_vocab * alpha)) # P(wi|ham) \n",
    "        p_wi_given_ham[col] = p_wi_ham  # For all words  \n",
    "    # Calculate p_spam and p_ham\n",
    "    p_spam = len(training_dataset_clean[training_dataset_clean['Label']=='spam']) / len(training_dataset_clean['Label'])\n",
    "    p_ham = 1 - p_spam                                         \n",
    "                        \n",
    "    return [p_spam, p_ham, p_wi_given_spam, p_wi_given_ham]"
   ]
  },
  {
   "cell_type": "markdown",
   "metadata": {},
   "source": [
    "## Unit Test\n",
    "As the calculations involved in `trainer` function are somewhat complex over a large dataset. Below, we will carry out a simple unit test for the calculations portions of the above function with a smaller test dataset."
   ]
  },
  {
   "cell_type": "code",
   "execution_count": 10,
   "metadata": {},
   "outputs": [],
   "source": [
    "# Write a function calculations containing calculations from function nbayes_trainer()\n",
    "def calculations(test): \n",
    "    \n",
    "    test['N_row'] = test.iloc[:, 2:].apply(sum, axis = 1)\n",
    "    \n",
    "    N_spam = test[test[\"Label\"]=='spam']['N_row'].sum()\n",
    "    N_ham = test[test[\"Label\"]=='ham']['N_row'].sum()\n",
    "    \n",
    "    N_vocab = 4\n",
    "    alpha = 1\n",
    "    for col in test.columns[2:-1]: # To exclude N_rown column\n",
    "        p_wi_given_spam = {} # Probability values for all words\n",
    "        p_wi_given_ham = {} # Probability values for all words\n",
    "        \n",
    "    test_spam = test.groupby(\"Label\").get_group('spam')\n",
    "    test_ham = test.groupby(\"Label\").get_group('ham')\n",
    "    for col in test_spam.columns[2:-1]: # To exclude N_rows column\n",
    "        N_wi_spam = test_spam[col].sum()\n",
    "        p_wi_spam = (N_wi_spam + alpha)/ (N_spam + (N_vocab * alpha)) # P(wi|spam)\n",
    "        p_wi_given_spam[col] = p_wi_spam # For all words\n",
    "        \n",
    "    for col in test_ham.columns[2:-1]: # To exclude N_rows column    \n",
    "        N_wi_ham = test_ham[col].sum() \n",
    "        p_wi_ham = (N_wi_ham + alpha)/ (N_ham + (N_vocab * alpha)) # P(wi|ham)\n",
    "        p_wi_given_ham[col] = p_wi_ham  # For all words \n",
    "    \n",
    "    return [N_spam, N_ham, p_wi_given_spam, p_wi_given_ham]         "
   ]
  },
  {
   "cell_type": "code",
   "execution_count": 11,
   "metadata": {},
   "outputs": [
    {
     "name": "stderr",
     "output_type": "stream",
     "text": [
      "test_calculations (__main__.TestNotebook) ... ok\n",
      "\n",
      "----------------------------------------------------------------------\n",
      "Ran 1 test in 0.015s\n",
      "\n",
      "OK\n"
     ]
    },
    {
     "data": {
      "text/plain": [
       "<unittest.main.TestProgram at 0x1edb98b8d60>"
      ]
     },
     "execution_count": 11,
     "metadata": {},
     "output_type": "execute_result"
    }
   ],
   "source": [
    "# Unit test the function calculations for verification of calculations\n",
    "import unittest\n",
    "test = pd.DataFrame({'Label': ['spam', 'ham', 'spam', 'ham'], 'a': [1, 2, 3, 4], \n",
    "                     'b': [4, 5, 6, 7], 'c': [7, 8, 9, 1], 'd': [1, 3, 5, 7]})\n",
    "\n",
    "class TestNotebook(unittest.TestCase):\n",
    "\n",
    "    def test_calculations(self):\n",
    "        self.assertEqual(calculations(test = test), [32, 31, {'b': 0.3055555555555556, 'c': 0.4722222222222222, 'd': 0.19444444444444445}\n",
    "                                                    , {'b': 0.37142857142857144, 'c': 0.2857142857142857, 'd': 0.3142857142857143}])\n",
    "\n",
    "\n",
    "unittest.main(argv=[''], verbosity=2, exit=False)"
   ]
  },
  {
   "cell_type": "code",
   "execution_count": 12,
   "metadata": {
    "scrolled": true
   },
   "outputs": [],
   "source": [
    "# Output the training algorithm\n",
    "training = nbayes_trainer(sms_training)"
   ]
  },
  {
   "cell_type": "markdown",
   "metadata": {},
   "source": [
    "### Naive Bayes Binary Classifier\n",
    "We will now write a Naive Bayes Binary Classifier which will classify information based on input of prior probabilities from the training dataset. We will not nest the training algorithm within the classification algorithm to save computing resources. The training algorithm has run one time and its output saved in the variable `training`, which is a list, above. More specifically the output is saved as a list as under:\n",
    "- `training[0]` (float) : p_spam\n",
    "- `training[1]`(float): p_ham\n",
    "- `training[2]`(dict) : p_word_given_spam \n",
    "- `training[3]`(dict) : p_word_given_ham"
   ]
  },
  {
   "cell_type": "code",
   "execution_count": 13,
   "metadata": {},
   "outputs": [],
   "source": [
    "# Classifies information as positive or negative or in this case ham or spam\n",
    "\n",
    "def nbayes_classifier(message):\n",
    "    \"\"\" Classifies input information as positive(ham) or negative(spam) based on comparative probabilities or Naives Bayes \n",
    "    algorithm\n",
    "    Args:\n",
    "    message(str): information to be classified\n",
    "    Returns:\n",
    "    bool: True(spam) if negative; False(ham) if positive\n",
    "    \"\"\"\n",
    "   # initialize with prior probabilities i.e. p_spam and p_ham from model training results \n",
    "    p_spam_given_message = training[0] \n",
    "    p_ham_given_message = training[1]\n",
    "    \n",
    "    # format information string (message) to remove unnecessary information\n",
    "    import re\n",
    "    message = re.sub(\"\\W\", \" \", message) # remove punctuation\n",
    "    message = message.lower().split()\n",
    "    \n",
    "    # Calculate respective posterior probabilities P(B|A) or p_spam_given_message and P(non-B|A) or p_ham_given_message\n",
    "    for word in message:\n",
    "        if word in training[2]:\n",
    "            p_spam_given_message *= training[2][word] # gets input from trained model\n",
    "        if word in training[3]:\n",
    "            p_ham_given_message *=  training[3][word]\n",
    "        \n",
    "        \n",
    "    if p_spam_given_message > p_ham_given_message:                                     \n",
    "        print(\"P(spam|message): \", p_spam_given_message, \" P(ham|messaged): \", p_ham_given_message, \" Label: Spam\")\n",
    "    elif p_ham_given_message > p_spam_given_message:\n",
    "        print(\"P(spam|message): \", p_spam_given_message, \" P(ham|messaged): \", p_ham_given_message, \" Label: Ham\")\n",
    "    else:\n",
    "        print(\"P(spam|message): \", p_spam_given_message, \" P(ham|messaged): \", p_ham_given_message, \" Label: Equal probabilities, needs human classification\")"
   ]
  },
  {
   "cell_type": "code",
   "execution_count": 14,
   "metadata": {},
   "outputs": [
    {
     "name": "stdout",
     "output_type": "stream",
     "text": [
      "P(spam|message):  1.3481290211300841e-25  P(ham|messaged):  1.9368049028589875e-27  Label: Spam\n",
      "P(spam|message):  2.4372375665888117e-25  P(ham|messaged):  3.687530435009238e-21  Label: Ham\n"
     ]
    }
   ],
   "source": [
    "# Test classifier on random messages\n",
    "\n",
    "nbayes_classifier(\"WINNER!! This is the secret code to unlock the money: C3421.\")\n",
    "\n",
    "nbayes_classifier(\"Sounds good, Tom, then see u there\")"
   ]
  },
  {
   "cell_type": "markdown",
   "metadata": {},
   "source": [
    "### Naive Bayes Accuracy Tester\n",
    "We will now define a function which tests the accuracy of the algorithm against a human classified test dataset."
   ]
  },
  {
   "cell_type": "code",
   "execution_count": 15,
   "metadata": {},
   "outputs": [],
   "source": [
    "def nbayes_accuracy_tester(message):\n",
    "    \"\"\" Classifies input information as positive(ham) or negative(spam) based on comparative probabilities or Naives Bayes \n",
    "    algorithm\n",
    "    Args:\n",
    "    message(str): information to be classified\n",
    "    Returns:\n",
    "    bool: True(spam) if negative; False(ham) if positive\"\"\"\n",
    "    \n",
    "    # initialize with prior probabilities i.e. p_spam and p_ham from model training results \n",
    "    p_spam_given_message = training[0] \n",
    "    p_ham_given_message = training[1]\n",
    "    \n",
    "    # format information string (message) to remove unnecessary information\n",
    "    import re\n",
    "    message = re.sub(\"\\W\", \" \", message) # remove punctuation\n",
    "    message = message.lower().split()\n",
    "    \n",
    "    # Calculate respective posterior probabilities P(B|A) or p_spam_given_message and P(non-B|A) or p_ham_given_message\n",
    "    for word in message:\n",
    "        if word in training[2]:\n",
    "            p_spam_given_message *= training[2][word] # gets input from trained model\n",
    "        if word in training[3]:\n",
    "            p_ham_given_message *=  training[3][word]\n",
    "        \n",
    "        \n",
    "    if p_spam_given_message > p_ham_given_message:                                     \n",
    "        return 'spam'\n",
    "    elif p_ham_given_message > p_spam_given_message:\n",
    "        return 'ham'\n",
    "    else:\n",
    "        return 'needs human classification'"
   ]
  },
  {
   "cell_type": "code",
   "execution_count": 16,
   "metadata": {
    "scrolled": true
   },
   "outputs": [
    {
     "data": {
      "text/html": [
       "<div>\n",
       "<style scoped>\n",
       "    .dataframe tbody tr th:only-of-type {\n",
       "        vertical-align: middle;\n",
       "    }\n",
       "\n",
       "    .dataframe tbody tr th {\n",
       "        vertical-align: top;\n",
       "    }\n",
       "\n",
       "    .dataframe thead th {\n",
       "        text-align: right;\n",
       "    }\n",
       "</style>\n",
       "<table border=\"1\" class=\"dataframe\">\n",
       "  <thead>\n",
       "    <tr style=\"text-align: right;\">\n",
       "      <th></th>\n",
       "      <th>Label</th>\n",
       "      <th>SMS</th>\n",
       "      <th>predicted</th>\n",
       "    </tr>\n",
       "  </thead>\n",
       "  <tbody>\n",
       "    <tr>\n",
       "      <th>0</th>\n",
       "      <td>ham</td>\n",
       "      <td>Later i guess. I needa do mcat study too.</td>\n",
       "      <td>ham</td>\n",
       "    </tr>\n",
       "    <tr>\n",
       "      <th>1</th>\n",
       "      <td>ham</td>\n",
       "      <td>But i haf enuff space got like 4 mb...</td>\n",
       "      <td>ham</td>\n",
       "    </tr>\n",
       "    <tr>\n",
       "      <th>2</th>\n",
       "      <td>spam</td>\n",
       "      <td>Had your mobile 10 mths? Update to latest Oran...</td>\n",
       "      <td>spam</td>\n",
       "    </tr>\n",
       "    <tr>\n",
       "      <th>3</th>\n",
       "      <td>ham</td>\n",
       "      <td>All sounds good. Fingers . Makes it difficult ...</td>\n",
       "      <td>ham</td>\n",
       "    </tr>\n",
       "    <tr>\n",
       "      <th>4</th>\n",
       "      <td>ham</td>\n",
       "      <td>All done, all handed in. Don't know if mega sh...</td>\n",
       "      <td>ham</td>\n",
       "    </tr>\n",
       "  </tbody>\n",
       "</table>\n",
       "</div>"
      ],
      "text/plain": [
       "  Label                                                SMS predicted\n",
       "0   ham          Later i guess. I needa do mcat study too.       ham\n",
       "1   ham             But i haf enuff space got like 4 mb...       ham\n",
       "2  spam  Had your mobile 10 mths? Update to latest Oran...      spam\n",
       "3   ham  All sounds good. Fingers . Makes it difficult ...       ham\n",
       "4   ham  All done, all handed in. Don't know if mega sh...       ham"
      ]
     },
     "execution_count": 16,
     "metadata": {},
     "output_type": "execute_result"
    }
   ],
   "source": [
    "# Apply nbayes_accuracy_tester function to sms_test data set to determine the accuracy against human classification\n",
    "# Create a new column 'predicted' in the test dataset and compare with human classification given in column 'Label'\n",
    "\n",
    "sms_test['predicted'] = sms_test['SMS'].apply(nbayes_accuracy_tester)\n",
    "sms_test.head()"
   ]
  },
  {
   "cell_type": "code",
   "execution_count": 17,
   "metadata": {
    "scrolled": true
   },
   "outputs": [
    {
     "name": "stdout",
     "output_type": "stream",
     "text": [
      "Correct: 1100\n",
      "Incorrect: 14\n",
      "Accuracy: 98.74326750448833 %\n"
     ]
    }
   ],
   "source": [
    "# Measure overall success of the algorithm against the complete test dataset\n",
    "\n",
    "correct = 0\n",
    "total = sms_test['SMS'].size\n",
    "\n",
    "for row in sms_test.iterrows():\n",
    "    row = row[1]\n",
    "    if row['Label'] == row['predicted']:\n",
    "        correct +=1\n",
    "\n",
    "print('Correct:', correct)\n",
    "print('Incorrect:', total - correct)\n",
    "print('Accuracy:', correct/total * 100, '%')        "
   ]
  },
  {
   "cell_type": "markdown",
   "metadata": {},
   "source": [
    "## Conclusion\n",
    "\n",
    "Naive Bayes algorithm is a useful tool for performing classification function with good accuracy. We have seen above that the **accuracy for the algorithm was close to 99%**.\n",
    "-  We have, in this project created two main functions which together provide a system of binary classification of information of data. First is a `nbayes_trainer` function which trains the model on any dataset in a given minimal format of the type `['Label', 'Info']`; and the second is the `nbayes_classifier` which classifies any new information into `positive` or `negative` based on the output of `nbayes_trainer`. \n",
    "- The algorithm developed here was tested as an SMS `spam filter` but it can be applied to a number of other situations where binary classification is required."
   ]
  },
  {
   "cell_type": "markdown",
   "metadata": {},
   "source": [
    "## Appendix I - A Guide for Data Cleaning and Formatting for Naive Bayes Trainer Algorithm\n",
    "\n",
    "Following guide through an example dataset demonstrates the data cleaning and formatting steps involved in the above written `nbayes` trainer function, which can take any training dataset on the format `['Label', 'info']` and output prior probabilities.\n",
    "\n",
    "The dataset used here `spam_appendix` is a copy of the dataset used in the above problem."
   ]
  },
  {
   "cell_type": "code",
   "execution_count": 18,
   "metadata": {},
   "outputs": [
    {
     "name": "stdout",
     "output_type": "stream",
     "text": [
      "<class 'pandas.core.frame.DataFrame'>\n",
      "Int64Index: 5572 entries, 1078 to 5157\n",
      "Data columns (total 2 columns):\n",
      " #   Column  Non-Null Count  Dtype \n",
      "---  ------  --------------  ----- \n",
      " 0   Label   5572 non-null   object\n",
      " 1   SMS     5572 non-null   object\n",
      "dtypes: object(2)\n",
      "memory usage: 130.6+ KB\n"
     ]
    }
   ],
   "source": [
    "# Preliminary Data Exploration\n",
    "appendix = pd.read_csv('spam_appendix', sep = '\\t', header = None, names = ['Label', 'SMS'])\n",
    "sms.info()"
   ]
  },
  {
   "cell_type": "code",
   "execution_count": 19,
   "metadata": {},
   "outputs": [
    {
     "data": {
      "text/html": [
       "<div>\n",
       "<style scoped>\n",
       "    .dataframe tbody tr th:only-of-type {\n",
       "        vertical-align: middle;\n",
       "    }\n",
       "\n",
       "    .dataframe tbody tr th {\n",
       "        vertical-align: top;\n",
       "    }\n",
       "\n",
       "    .dataframe thead th {\n",
       "        text-align: right;\n",
       "    }\n",
       "</style>\n",
       "<table border=\"1\" class=\"dataframe\">\n",
       "  <thead>\n",
       "    <tr style=\"text-align: right;\">\n",
       "      <th></th>\n",
       "      <th>Label</th>\n",
       "      <th>SMS</th>\n",
       "    </tr>\n",
       "  </thead>\n",
       "  <tbody>\n",
       "    <tr>\n",
       "      <th>0</th>\n",
       "      <td>ham</td>\n",
       "      <td>Go until jurong point, crazy.. Available only ...</td>\n",
       "    </tr>\n",
       "    <tr>\n",
       "      <th>1</th>\n",
       "      <td>ham</td>\n",
       "      <td>Ok lar... Joking wif u oni...</td>\n",
       "    </tr>\n",
       "    <tr>\n",
       "      <th>2</th>\n",
       "      <td>spam</td>\n",
       "      <td>Free entry in 2 a wkly comp to win FA Cup fina...</td>\n",
       "    </tr>\n",
       "    <tr>\n",
       "      <th>3</th>\n",
       "      <td>ham</td>\n",
       "      <td>U dun say so early hor... U c already then say...</td>\n",
       "    </tr>\n",
       "    <tr>\n",
       "      <th>4</th>\n",
       "      <td>ham</td>\n",
       "      <td>Nah I don't think he goes to usf, he lives aro...</td>\n",
       "    </tr>\n",
       "  </tbody>\n",
       "</table>\n",
       "</div>"
      ],
      "text/plain": [
       "  Label                                                SMS\n",
       "0   ham  Go until jurong point, crazy.. Available only ...\n",
       "1   ham                      Ok lar... Joking wif u oni...\n",
       "2  spam  Free entry in 2 a wkly comp to win FA Cup fina...\n",
       "3   ham  U dun say so early hor... U c already then say...\n",
       "4   ham  Nah I don't think he goes to usf, he lives aro..."
      ]
     },
     "execution_count": 19,
     "metadata": {},
     "output_type": "execute_result"
    }
   ],
   "source": [
    "appendix.head()"
   ]
  },
  {
   "cell_type": "code",
   "execution_count": 20,
   "metadata": {},
   "outputs": [
    {
     "name": "stdout",
     "output_type": "stream",
     "text": [
      "ham     0.865937\n",
      "spam    0.134063\n",
      "Name: Label, dtype: float64\n"
     ]
    },
    {
     "data": {
      "image/png": "[encoded data removed]",
      "text/plain": [
       "<Figure size 432x432 with 1 Axes>"
      ]
     },
     "metadata": {},
     "output_type": "display_data"
    }
   ],
   "source": [
    "print(appendix['Label'].value_counts(normalize = True))\n",
    "\n",
    "fig = plt.figure(figsize=(6, 6))  \n",
    "plt.style.use('fivethirtyeight')\n",
    "appendix['Label'].value_counts(normalize = True).plot.bar(color = ['blue','red'], rot = 0)\n",
    "plt.show()"
   ]
  },
  {
   "cell_type": "markdown",
   "metadata": {},
   "source": [
    "### Splitting Dataset for Training and Testing\n",
    "Our data set is approximately made up of 87% 'ham(non-spam)' and 13& 'spam' messages.\n",
    "We will split the above dataset into two categories by randomizing the entire dataset to ensure that spam and ham (non-spam) messages are spread proportionately throughout the dataset.:\n",
    "**Training Set** for training the model on how to classify messages. 80% of the dataset or 4458 messages will be used for training.\n",
    "**Test Set** for testing the spam filter performance. Remaining 20% i.e. 1114 messages will be used for testing. Spam filter must classify new messages with an accuracy greater than 80% as spam or ham (non-spam)."
   ]
  },
  {
   "cell_type": "code",
   "execution_count": 21,
   "metadata": {},
   "outputs": [
    {
     "name": "stdout",
     "output_type": "stream",
     "text": [
      "<class 'pandas.core.frame.DataFrame'>\n",
      "RangeIndex: 4458 entries, 0 to 4457\n",
      "Data columns (total 2 columns):\n",
      " #   Column  Non-Null Count  Dtype \n",
      "---  ------  --------------  ----- \n",
      " 0   Label   4458 non-null   object\n",
      " 1   SMS     4458 non-null   object\n",
      "dtypes: object(2)\n",
      "memory usage: 69.8+ KB\n",
      "None\n",
      "<class 'pandas.core.frame.DataFrame'>\n",
      "RangeIndex: 1114 entries, 0 to 1113\n",
      "Data columns (total 2 columns):\n",
      " #   Column  Non-Null Count  Dtype \n",
      "---  ------  --------------  ----- \n",
      " 0   Label   1114 non-null   object\n",
      " 1   SMS     1114 non-null   object\n",
      "dtypes: object(2)\n",
      "memory usage: 17.5+ KB\n",
      "None\n"
     ]
    }
   ],
   "source": [
    "# Randomize and split dataset into training and test sets\n",
    "appendix = appendix.sample(frac = 1, random_state = 1)\n",
    "appendix_training = appendix.head(int(0.8*appendix.Label.size)+1).reset_index(drop = True) # To round of the next higher integer\n",
    "appendix_test = appendix.tail(int(0.2*appendix.Label.size)).reset_index(drop = True)\n",
    "print(appendix_training.info())\n",
    "print(appendix_test.info())"
   ]
  },
  {
   "cell_type": "markdown",
   "metadata": {},
   "source": [
    "**After above splitting, we have used the training dataset for training the model `nbayes_trainer`. In case, a test dataset is not needed, this splitting is not required. All the following functions are automatically performed by the model**."
   ]
  },
  {
   "cell_type": "code",
   "execution_count": 22,
   "metadata": {},
   "outputs": [
    {
     "name": "stdout",
     "output_type": "stream",
     "text": [
      "Training:  \n",
      " ham     0.86541\n",
      "spam    0.13459\n",
      "Name: Label, dtype: float64\n"
     ]
    },
    {
     "data": {
      "image/png": "[encoded data removed]",
      "text/plain": [
       "<Figure size 432x432 with 1 Axes>"
      ]
     },
     "metadata": {},
     "output_type": "display_data"
    }
   ],
   "source": [
    "# Check proportion of ham and spam in training dataset\n",
    "print(\"Training: \", '\\n', appendix_training['Label'].value_counts(normalize = True))\n",
    "\n",
    "fig = plt.figure(figsize=(6, 6))  \n",
    "plt.style.use('fivethirtyeight')\n",
    "sms_training['Label'].value_counts(normalize = True).plot.bar(color = ['blue','red'], rot = 0)\n",
    "plt.title(\"Training Dataset\")\n",
    "plt.show()"
   ]
  },
  {
   "cell_type": "code",
   "execution_count": 23,
   "metadata": {},
   "outputs": [
    {
     "name": "stdout",
     "output_type": "stream",
     "text": [
      "Test:  \n",
      " ham     0.868043\n",
      "spam    0.131957\n",
      "Name: Label, dtype: float64\n"
     ]
    },
    {
     "data": {
      "image/png": "[encoded data removed]",
      "text/plain": [
       "<Figure size 432x432 with 1 Axes>"
      ]
     },
     "metadata": {},
     "output_type": "display_data"
    }
   ],
   "source": [
    "# Check proportion of ham and spam in test dataset\n",
    "print(\"Test: \", '\\n', appendix_test['Label'].value_counts(normalize = True))\n",
    "fig = plt.figure(figsize=(6, 6))  \n",
    "plt.style.use('fivethirtyeight')\n",
    "sms_test['Label'].value_counts(normalize = True).plot.bar(color = ['blue','red'], rot = 0)\n",
    "plt.title(\"Test Dataset\")\n",
    "plt.show()"
   ]
  },
  {
   "cell_type": "markdown",
   "metadata": {},
   "source": [
    "### Organizing Datasets\n",
    "\n",
    "We have to organize datasets in a format in which it is possible to count probabilities of particular words occurring in a message P(w/spam) and p(w/ham), such as:\n",
    "![image.png](attachment:image.png)\n",
    "\n",
    "- First, we will clean the dataset to remove unrequired characters such as punctuation, and will also convert all words to lower-case.\n",
    "- Next, we will crete a list `vocabulary` containing unique words in the training dataset.\n",
    "- Then, a dictionary containing key-value pairs with words as keys and their counts as values\n",
    "- Finally, we will transform `vocabulary` into columns of dataset as depicted above."
   ]
  },
  {
   "cell_type": "code",
   "execution_count": 24,
   "metadata": {},
   "outputs": [],
   "source": [
    "# Remove Punctuation and change to lower case.\n",
    "\n",
    "import re\n",
    "def repl_punctuation(string):\n",
    "    return re.sub(pattern = r'\\W', repl = ' ', string = string)\n",
    "\n",
    "appendix_training['SMS'] = appendix_training.SMS.apply(repl_punctuation).str.lower()"
   ]
  },
  {
   "cell_type": "code",
   "execution_count": 25,
   "metadata": {},
   "outputs": [
    {
     "name": "stdout",
     "output_type": "stream",
     "text": [
      "<class 'pandas.core.frame.DataFrame'>\n",
      "RangeIndex: 4458 entries, 0 to 4457\n",
      "Data columns (total 2 columns):\n",
      " #   Column  Non-Null Count  Dtype \n",
      "---  ------  --------------  ----- \n",
      " 0   Label   4458 non-null   object\n",
      " 1   SMS     4458 non-null   object\n",
      "dtypes: object(2)\n",
      "memory usage: 69.8+ KB\n",
      "  Label                                                SMS\n",
      "0   ham                       yep  by the pretty sculpture\n",
      "1   ham      yes  princess  are you going to make me moan \n",
      "2   ham                         welp apparently he retired\n",
      "3   ham                                            havent \n",
      "4   ham  i forgot 2 ask ü all smth   there s a card on ...\n"
     ]
    }
   ],
   "source": [
    "appendix_training.info()\n",
    "print(appendix_training.head())"
   ]
  },
  {
   "cell_type": "code",
   "execution_count": 26,
   "metadata": {},
   "outputs": [
    {
     "name": "stdout",
     "output_type": "stream",
     "text": [
      "7783\n",
      "['allah', 'psychiatrist', 'listener', 'scammers', 'atrocious']\n"
     ]
    }
   ],
   "source": [
    "# Create a vocabulary \n",
    "\n",
    "vocab = []\n",
    "\n",
    "appendix_training['SMS'] = appendix_training.SMS.str.split()\n",
    "\n",
    "for list in appendix_training.SMS:\n",
    "    for i in range(0, len(list)):\n",
    "        word = list[i]\n",
    "        vocab.append(word)\n",
    "vocab = set(vocab) # Convert to set to remove duplicates\n",
    "\n",
    "vocabulary = []\n",
    "for item in vocab:\n",
    "    vocabulary.append(item) # Transforming back to list to facilitate list operations\n",
    "print(len(vocabulary))       \n",
    "print(vocabulary[:5])"
   ]
  },
  {
   "cell_type": "code",
   "execution_count": 27,
   "metadata": {},
   "outputs": [
    {
     "name": "stdout",
     "output_type": "stream",
     "text": [
      "     Label                                                SMS  allah  \\\n",
      "4453   ham  [sorry, i, ll, call, later, in, meeting, any, ...      0   \n",
      "4454   ham  [babe, i, fucking, love, you, too, you, know, ...      0   \n",
      "4455  spam  [u, ve, been, selected, to, stay, in, 1, of, 2...      0   \n",
      "4456   ham  [hello, my, boytoy, geeee, i, miss, you, alrea...      0   \n",
      "4457   ham                            [wherre, s, my, boytoy]      0   \n",
      "\n",
      "      psychiatrist  listener  scammers  atrocious  how  7ws  ummma  cs  ard  \\\n",
      "4453             0         0         0          0    0    0      0   0    0   \n",
      "4454             0         0         0          0    0    0      0   0    0   \n",
      "4455             0         0         0          0    0    0      0   0    0   \n",
      "4456             0         0         0          0    0    0      0   0    0   \n",
      "4457             0         0         0          0    0    0      0   0    0   \n",
      "\n",
      "      kl341  jealous  brisk  community  165  69888  rememberi  asjesus  neck  \\\n",
      "4453      0        0      0          0    0      0          0        0     0   \n",
      "4454      0        0      0          0    0      0          0        0     0   \n",
      "4455      0        0      0          0    0      0          0        0     0   \n",
      "4456      0        0      0          0    0      0          0        0     0   \n",
      "4457      0        0      0          0    0      0          0        0     0   \n",
      "\n",
      "      centre  09065069154  speed  dontcha  city  sashimi  girlfrnd  \\\n",
      "4453       0            0      0        0     0        0         0   \n",
      "4454       0            0      0        0     0        0         0   \n",
      "4455       0            0      0        0     0        0         0   \n",
      "4456       0            0      0        0     0        0         0   \n",
      "4457       0            0      0        0     0        0         0   \n",
      "\n",
      "      08712405020  week  dirtiest  to  further  shinco  naughty  speaking  \\\n",
      "4453            0     0         0   1        0       0        0         0   \n",
      "4454            0     0         0   1        0       0        0         0   \n",
      "4455            0     0         0   2        0       0        0         0   \n",
      "4456            0     0         0   0        0       0        0         0   \n",
      "4457            0     0         0   0        0       0        0         0   \n",
      "\n",
      "      trains  english  nat27081980  freak  labor  nt  complaining  tiwary  \\\n",
      "4453       0        0            0      0      0   0            0       0   \n",
      "4454       0        0            0      0      0   0            0       0   \n",
      "4455       0        0            0      0      0   0            0       0   \n",
      "4456       0        0            0      0      0   0            0       0   \n",
      "4457       0        0            0      0      0   0            0       0   \n",
      "\n",
      "      lovely  owned  wipe  area  thout  usf  gud  squeezed  bambling  87239  \\\n",
      "4453       0      0     0     0      0    0    0         0         0      0   \n",
      "4454       0      0     0     0      0    0    0         0         0      0   \n",
      "4455       0      0     0     0      0    0    0         0         0      0   \n",
      "4456       0      0     0     0      0    0    0         0         0      0   \n",
      "4457       0      0     0     0      0    0    0         0         0      0   \n",
      "\n",
      "      ahold  nino  sorted  movie  iyo  important  nxt  sad  joy  sppok  \\\n",
      "4453      0     0       0      0    0          0    0    0    0      0   \n",
      "4454      0     0       0      0    0          0    0    0    0      0   \n",
      "4455      0     0       0      0    0          0    0    0    0      0   \n",
      "4456      0     0       0      0    0          0    0    0    0      0   \n",
      "4457      0     0       0      0    0          0    0    0    0      0   \n",
      "\n",
      "      freefone  timing  jeans  sun  frndship  m60  chapel  incident  \\\n",
      "4453         0       0      0    0         0    0       0         0   \n",
      "4454         0       0      0    0         0    0       0         0   \n",
      "4455         0       0      0    0         0    0       0         0   \n",
      "4456         0       0      0    0         0    0       0         0   \n",
      "4457         0       0      0    0         0    0       0         0   \n",
      "\n",
      "      afterwards  east  ummifying  ...  drugdealer  nusstu  lingo  fgkslpo  \\\n",
      "4453           0     0          0  ...           0       0      0        0   \n",
      "4454           0     0          0  ...           0       0      0        0   \n",
      "4455           0     0          0  ...           0       0      0        0   \n",
      "4456           0     0          0  ...           0       0      0        0   \n",
      "4457           0     0          0  ...           0       0      0        0   \n",
      "\n",
      "      recpt  2price  3xx  official  warning  spiffing  tell  gmw  taken  maid  \\\n",
      "4453      0       0    0         0        0         0     0    0      0     0   \n",
      "4454      0       0    0         0        0         0     0    0      0     0   \n",
      "4455      0       0    0         0        0         0     0    0      0     0   \n",
      "4456      0       0    0         0        0         0     0    0      0     0   \n",
      "4457      0       0    0         0        0         0     0    0      0     0   \n",
      "\n",
      "      come  versus  propose  sang  09066380611  formally  mths  positive  pmt  \\\n",
      "4453     0       0        0     0            0         0     0         0    0   \n",
      "4454     0       0        0     0            0         0     0         0    0   \n",
      "4455     0       0        0     0            0         0     0         0    0   \n",
      "4456     0       0        0     0            0         0     0         0    0   \n",
      "4457     0       0        0     0            0         0     0         0    0   \n",
      "\n",
      "      xxxxx  oranges  senor  stalk  clark  owns  exeter  aroundn  dificult  \\\n",
      "4453      0        0      0      0      0     0       0        0         0   \n",
      "4454      0        0      0      0      0     0       0        0         0   \n",
      "4455      0        0      0      0      0     0       0        0         0   \n",
      "4456      0        0      0      0      0     0       0        0         0   \n",
      "4457      0        0      0      0      0     0       0        0         0   \n",
      "\n",
      "      14thmarch  nok  gnarls  enufcredeit  uni  draw  nvm  dependents  \\\n",
      "4453          0    0       0            0    0     0    0           0   \n",
      "4454          0    0       0            0    0     0    0           0   \n",
      "4455          0    0       0            0    0     0    0           0   \n",
      "4456          0    0       0            0    0     0    0           0   \n",
      "4457          0    0       0            0    0     0    0           0   \n",
      "\n",
      "      acknowledgement  sen  jogging  ham  jokes  creepy  scold  clever  donyt  \\\n",
      "4453                0    0        0    0      0       0      0       0      0   \n",
      "4454                0    0        0    0      0       0      0       0      0   \n",
      "4455                0    0        0    0      0       0      0       0      0   \n",
      "4456                0    0        0    0      0       0      0       0      0   \n",
      "4457                0    0        0    0      0       0      0       0      0   \n",
      "\n",
      "      fuuuuck  norm150p  scenery  49557  jst  readers  plaid  magic  likely  \\\n",
      "4453        0         0        0      0    0        0      0      0       0   \n",
      "4454        0         0        0      0    0        0      0      0       0   \n",
      "4455        0         0        0      0    0        0      0      0       0   \n",
      "4456        0         0        0      0    0        0      0      0       0   \n",
      "4457        0         0        0      0    0        0      0      0       0   \n",
      "\n",
      "      bbd  compromised  water  aha  doc  yun  count  4brekkie  melt  receipt  \\\n",
      "4453    0            0      0    0    0    0      0         0     0        0   \n",
      "4454    0            0      0    0    0    0      0         0     0        0   \n",
      "4455    0            0      0    0    0    0      0         0     0        0   \n",
      "4456    0            0      0    0    0    0      0         0     0        0   \n",
      "4457    0            0      0    0    0    0      0         0     0        0   \n",
      "\n",
      "      3x  betta  0845  dime  hol  diet  palm  \n",
      "4453   0      0     0     0    0     0     0  \n",
      "4454   0      0     0     0    0     0     0  \n",
      "4455   0      0     0     0    0     0     0  \n",
      "4456   0      0     0     0    0     0     0  \n",
      "4457   0      0     0     0    0     0     0  \n",
      "\n",
      "[5 rows x 7785 columns]\n"
     ]
    }
   ],
   "source": [
    "# Transform vocabulary into dictionary of unique word key-value pairs\n",
    "appendix_word_count = {}\n",
    "for word in vocabulary:\n",
    "    appendix_word_count[word] = [0] * len(appendix_training.SMS) # Initialize the dictionary values to zero for each unique word in each sms\n",
    "\n",
    "# Iterate over SMS column in training data set to populate dictionary getting both index and sms\n",
    "for index, sms in enumerate(appendix_training.SMS):\n",
    "    for word in sms:\n",
    "        appendix_word_count[word][index] += 1\n",
    "        \n",
    "\n",
    "# Convert to dataframe\n",
    "\n",
    "appendix_word_count = pd.DataFrame(appendix_word_count)\n",
    "\n",
    "# Concatenate with training dataset to have labels and SMS\n",
    "appendix_training_data_clean = pd.concat([appendix_training, appendix_word_count], axis = 1)\n",
    "print(appendix_training_data_clean.tail())"
   ]
  },
  {
   "cell_type": "markdown",
   "metadata": {},
   "source": [
    "## Appendix-II: Conditional Probability Core Functions\n",
    "A number of functions involving repeated probability calculations will be required. In order to facilitate calculations, we will write a set of core functions or a library of core conditional probability functions."
   ]
  },
  {
   "cell_type": "code",
   "execution_count": 28,
   "metadata": {},
   "outputs": [],
   "source": [
    "# Event Probability Function P(E)\n",
    "\n",
    "def p_event(n, s=1):\n",
    "    \"\"\" Calculates the probability P(E) of an event E\n",
    "    Args:\n",
    "    n(int): total number of possible outcomes\n",
    "    s(int): number of successful outcomes, default: 1\n",
    "    Returns:\n",
    "    float: empirical and/ or theoretical probability of an event\n",
    "    \"\"\"\n",
    "    probability = s/ n\n",
    "    return probability"
   ]
  },
  {
   "cell_type": "code",
   "execution_count": 29,
   "metadata": {},
   "outputs": [],
   "source": [
    "# Complement of event probability Function P(Ec)\n",
    "\n",
    "def p_non_event(n, s=1): \n",
    "    \"\"\" Calculates the non-probability or complement probability P(Ec) of an event E\n",
    "    Args:\n",
    "    n(int): total number of possible outcomes\n",
    "    s(int): number of successful outcomes, default: 1\n",
    "    Returns:\n",
    "    float: empirical and/ or theoretical non_probability of an event\n",
    "    \"\"\"\n",
    "    probability = s/ n\n",
    "    non_probability = 1 - probability\n",
    "    return non_probability"
   ]
  },
  {
   "cell_type": "code",
   "execution_count": 30,
   "metadata": {},
   "outputs": [],
   "source": [
    "# Intersection of successful outcomes \n",
    "\n",
    "def intersection_card(outcome_A, outcome_B): \n",
    "    \"\"\" Calculates the intersection of outcomes for two events \n",
    "    or\n",
    "    Calculates cardinal of intersection of two sets, card(AnB)\n",
    "    Args:\n",
    "    outcome_A(list): Successful outcomes for event A\n",
    "    outcome_B(list): Successful outcomes for event B\n",
    "    Returns:\n",
    "    int: Cardinal of outcome_A intersection outcome_B, card(A n B)\n",
    "    \"\"\"\n",
    "    outcome_A = set(outcome_A)\n",
    "    outcome_B = set(outcome_B)\n",
    "    card_A_and_B = len(outcome_A.intersection(outcome_B))\n",
    "    return card_A_and_B"
   ]
  },
  {
   "cell_type": "code",
   "execution_count": 31,
   "metadata": {},
   "outputs": [],
   "source": [
    "# Conditional Probability of an Event A given an Event B based on set cardinals\n",
    "def probability_A_given_B_card(outcome_A, outcome_B):\n",
    "    \"\"\" Calculates the conditional probability of an event A given an event B \n",
    "    or\n",
    "    P(A|B)\n",
    "    Args:\n",
    "    outcome_A(list): Successful outcomes for event A\n",
    "    outcome_B(list): Successful outcomes for event B\n",
    "    Returns:\n",
    "    float: conditional probability of event A given event B\n",
    "    \"\"\"\n",
    "    outcome_A = set(outcome_A)\n",
    "    outcome_B = set(outcome_B)\n",
    "    card_A_and_B = len(outcome_A.intersection(outcome_B))\n",
    "    card_B = len(outcome_B)\n",
    "    p_a_given_b = card_A_and_B / card_B\n",
    "    \n",
    "    return p_a_given_b"
   ]
  },
  {
   "cell_type": "code",
   "execution_count": 32,
   "metadata": {},
   "outputs": [],
   "source": [
    " # Conditional Probability of an Event A given an Event B based on probabilities\n",
    "def p_A_given_B_prob(p_B, p_A_and_B):\n",
    "    \"\"\" Calculates the conditional probability of an event A given an event B,\n",
    "    from the probabilities of events A and A intersection A\n",
    "    or \n",
    "    P(A|B)\n",
    "    Args:\n",
    "    p_B(float): Probability of event B\n",
    "    p_A_and_B(float): Probability of event AnB, or P(AnB)\n",
    "    Returns:\n",
    "    float: conditional probability of event A given event B\n",
    "    \"\"\"\n",
    "    p_a_given_b = p_A_and_B / p_B\n",
    "    \n",
    "    return p_a_given_b"
   ]
  },
  {
   "cell_type": "code",
   "execution_count": 33,
   "metadata": {},
   "outputs": [],
   "source": [
    "# Probability of an event A and an event B based on cardinals, P(AnB)\n",
    "\n",
    "def p_A_and_B_card(omega, outcome_A, outcome_B):\n",
    "    \"\"\" Calculates the probability of an event A and an event B, A intersection B \n",
    "    or\n",
    "    P(AnB)\n",
    "    Args:\n",
    "    omega(list): All possible outcomes, or sample space \n",
    "    outcome_A(list): Successful outcomes for event A\n",
    "    outcome_B(list): Successful outcomes for event B\n",
    "    Returns:\n",
    "    float: conditional probability of event A given event B\n",
    "    \"\"\"\n",
    "    omega = set(omega)\n",
    "    outcome_A = set(outcome_A)\n",
    "    outcome_B = set(outcome_B)\n",
    "    card_A_and_B = len(outcome_A.intersection(outcome_B))\n",
    "    card_omega = len(omega)\n",
    "    p_a_and_b = card_A_and_B / card_omega\n",
    "    \n",
    "    return p_a_and_b"
   ]
  },
  {
   "cell_type": "code",
   "execution_count": 34,
   "metadata": {},
   "outputs": [],
   "source": [
    "# Probability of two dependent events A and B based on prior probabilities, P(AnB)\n",
    "\n",
    "def p_A_and_B_prob(p_B, p_A_given_B):\n",
    "    \"\"\" Calculates the conditional probability of an event A given an event B,\n",
    "    from the probabilities of events A and A intersection B\n",
    "    or \n",
    "    P(A|B)\n",
    "    Args:\n",
    "    p_B(float): Probability of event B\n",
    "    p_A_and_B(float): Probability of event AnB, or P(AnB)\n",
    "    Returns:\n",
    "    float: conditional probability of event A given event B\n",
    "    \"\"\"\n",
    "    p_a_and_b = p_A_given_B * p_B \n",
    "    return p_a_and_b"
   ]
  },
  {
   "cell_type": "code",
   "execution_count": 35,
   "metadata": {},
   "outputs": [],
   "source": [
    "# Probability of two independent events A and B based on prior probabilities, P(AnB)\n",
    "\n",
    "def p_A_and_B_prob(p_A, p_B):\n",
    "    \"\"\" Calculates the conditional probability of an event A given an event B,\n",
    "    from the probabilities of events A and A intersection B\n",
    "    or \n",
    "    P(A|B)\n",
    "    Args:\n",
    "    p_B(float): Probability of event B\n",
    "    p_A_and_B(float): Probability of event AnB, or P(AnB)\n",
    "    Returns:\n",
    "    float: conditional probability of event A given event B\n",
    "    \"\"\"\n",
    "    p_a_and_b = p_A * p_B\n",
    "    return p_a_and_b"
   ]
  },
  {
   "cell_type": "code",
   "execution_count": 36,
   "metadata": {},
   "outputs": [],
   "source": [
    "# Probability of an Even A or an Event B\n",
    "def p_A_or_B(p_A, p_B, p_a_and_b = 0):\n",
    "    \"\"\" Calculates the conditional probability of an event A or an event B,\n",
    "    from the probabilities of events A, B and A intersection B\n",
    "    or \n",
    "    P(A|B)\n",
    "    Args:\n",
    "    p_B(float): Probability of event B\n",
    "    p_A_and_B(float): Probability of event AnB, or P(AnB); default = 0(for mutually exclusive events)\n",
    "    Returns:\n",
    "    float: Probability of event AuB, or P(AuB)\n",
    "    \"\"\"\n",
    "    p_a_or_b = p_A + p_B + p_a_and_b\n",
    "    return p_a_or_b\n",
    "    "
   ]
  },
  {
   "cell_type": "code",
   "execution_count": 37,
   "metadata": {},
   "outputs": [],
   "source": [
    "# Total Probability of an event A dependent on an event B\n",
    "def p_total_A(p_B, p_a_given_b):\n",
    "    \"\"\" Calculates the total probability of an event A \n",
    "    or \n",
    "    P(A)\n",
    "    Args:\n",
    "    p_B(list): Probability of events B1, B2, B3....Bn\n",
    "    p_a_given_b(list): Probability of events A|B1, A|B2, A|B3 .... A|Bn\n",
    "    Returns:\n",
    "    float: Probability of event A, or P(A)\n",
    "    \"\"\"\n",
    "    probability_list = []\n",
    "    for p_a, p_a_g_b in zip(p_B, p_a_given_b):\n",
    "        p_total = p_a * p_a_g_b\n",
    "        probability_list.append(p_total)\n",
    "\n",
    "                        \n",
    "    p_total_A = sum(probability_list)\n",
    "    return p_total_A"
   ]
  },
  {
   "cell_type": "code",
   "execution_count": 38,
   "metadata": {},
   "outputs": [],
   "source": [
    "# Bayes Theorem\n",
    "def p_B_given_A_Bayes(p_Bi, p_a_given_bi, p_B, p_a_given_b):\n",
    "    \"\"\" Calculates the probability of an event B given A \n",
    "    or \n",
    "    P(A)\n",
    "    Args:\n",
    "    p_Bi(list): Probability of events B1, B2, B3....Bn\n",
    "    p_a_given_bi(list): Probability of events A|B1, A|B2, A|B3 .... A|Bn\n",
    "    p_B(float): Probability of event B\n",
    "    p_a_given_b(float): Probability of event A given B\n",
    "    Returns:\n",
    "    float: Probability of event A, or P(A)\n",
    "    \"\"\"\n",
    "    probability_list = []\n",
    "    for p_a, p_a_g_b in zip(p_Bi, p_a_given_bi):\n",
    "        p_total = p_a * p_a_g_b\n",
    "        probability_list.append(p_total)\n",
    "\n",
    "                        \n",
    "    p_b_given_a = p_B * p_a_given_b/sum(probability_list)\n",
    "    return p_b_given_a"
   ]
  },
  {
   "cell_type": "code",
   "execution_count": 39,
   "metadata": {},
   "outputs": [],
   "source": [
    "# Naive Bayes Algorithm \n",
    "def p_nBayes(p_B, p_a_given_b):\n",
    "    \"\"\" Calculates the probability of an event B given A times probability of A and non_B given A times probability of A\n",
    "    or \n",
    "    P(A)\n",
    "    Args:\n",
    "    p_Bi(list): Probability of events B1, B2, B3....Bn\n",
    "    p_a_given_bi(list): Probability of events A|B1, A|B2, A|B3 .... A|Bn\n",
    "    p_B(float): Probability of event B\n",
    "    p_a_given_b(float): Probability of event A given B\n",
    "    Returns:\n",
    "    bool: True if P(B|A) * P(A) > P(non_B|A) * P(A)\n",
    "    \"\"\"\n",
    "                           \n",
    "    p_b_given_a = p_B * p_a_given_b\n",
    "    p_non_b_given_a = p_non_b * p_a_given_non_b\n",
    "    \n",
    "    if p_b_given_a > p_non_b_given_a:\n",
    "        return True\n",
    "    \n",
    "    else:\n",
    "        return False"
   ]
  }
 ],
 "metadata": {
  "kernelspec": {
   "display_name": "Python 3",
   "language": "python",
   "name": "python3"
  },
  "language_info": {
   "codemirror_mode": {
    "name": "ipython",
    "version": 3
   },
   "file_extension": ".py",
   "mimetype": "text/x-python",
   "name": "python",
   "nbconvert_exporter": "python",
   "pygments_lexer": "ipython3",
   "version": "3.8.3"
  }
 },
 "nbformat": 4,
 "nbformat_minor": 4
}
